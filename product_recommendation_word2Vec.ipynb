{
 "cells": [
  {
   "cell_type": "code",
   "execution_count": 46,
   "id": "3e18967c",
   "metadata": {},
   "outputs": [],
   "source": [
    "import pandas as pd\n",
    "import numpy as np\n",
    "import random\n",
    "from tqdm import tqdm\n",
    "from gensim.models import word2vec\n",
    "import matplotlib.pyplot as plt\n",
    "%matplotlib inline\n",
    "import umap\n",
    "import warnings;\n",
    "warnings.filterwarnings('ignore')"
   ]
  },
  {
   "cell_type": "code",
   "execution_count": 55,
   "id": "83d2f51e",
   "metadata": {},
   "outputs": [
    {
     "data": {
      "text/html": [
       "<div>\n",
       "<style scoped>\n",
       "    .dataframe tbody tr th:only-of-type {\n",
       "        vertical-align: middle;\n",
       "    }\n",
       "\n",
       "    .dataframe tbody tr th {\n",
       "        vertical-align: top;\n",
       "    }\n",
       "\n",
       "    .dataframe thead th {\n",
       "        text-align: right;\n",
       "    }\n",
       "</style>\n",
       "<table border=\"1\" class=\"dataframe\">\n",
       "  <thead>\n",
       "    <tr style=\"text-align: right;\">\n",
       "      <th></th>\n",
       "      <th>client</th>\n",
       "      <th>timestamp</th>\n",
       "      <th>product_id</th>\n",
       "    </tr>\n",
       "  </thead>\n",
       "  <tbody>\n",
       "    <tr>\n",
       "      <th>208</th>\n",
       "      <td>85ab8f53-b934-49dd-8d54-479ed08499f6</td>\n",
       "      <td>2021-08-29 17:05:45.368000+00:00</td>\n",
       "      <td>63594</td>\n",
       "    </tr>\n",
       "    <tr>\n",
       "      <th>209</th>\n",
       "      <td>85ab8f53-b934-49dd-8d54-479ed08499f6</td>\n",
       "      <td>2021-08-29 17:07:02.711000+00:00</td>\n",
       "      <td>63290</td>\n",
       "    </tr>\n",
       "    <tr>\n",
       "      <th>210</th>\n",
       "      <td>85ab8f53-b934-49dd-8d54-479ed08499f6</td>\n",
       "      <td>2021-08-29 17:08:51.306000+00:00</td>\n",
       "      <td>64872</td>\n",
       "    </tr>\n",
       "    <tr>\n",
       "      <th>247</th>\n",
       "      <td>46989f50-87f9-4ece-9db3-cffaa3bf2278</td>\n",
       "      <td>2021-08-29 19:23:07.176000+00:00</td>\n",
       "      <td>63593</td>\n",
       "    </tr>\n",
       "    <tr>\n",
       "      <th>1665</th>\n",
       "      <td>dbbcd1c1-c0ca-4eed-b144-736fc40f6d24</td>\n",
       "      <td>2021-08-29 20:00:40.706000+00:00</td>\n",
       "      <td>56093</td>\n",
       "    </tr>\n",
       "  </tbody>\n",
       "</table>\n",
       "</div>"
      ],
      "text/plain": [
       "                                    client                         timestamp  \\\n",
       "208   85ab8f53-b934-49dd-8d54-479ed08499f6  2021-08-29 17:05:45.368000+00:00   \n",
       "209   85ab8f53-b934-49dd-8d54-479ed08499f6  2021-08-29 17:07:02.711000+00:00   \n",
       "210   85ab8f53-b934-49dd-8d54-479ed08499f6  2021-08-29 17:08:51.306000+00:00   \n",
       "247   46989f50-87f9-4ece-9db3-cffaa3bf2278  2021-08-29 19:23:07.176000+00:00   \n",
       "1665  dbbcd1c1-c0ca-4eed-b144-736fc40f6d24  2021-08-29 20:00:40.706000+00:00   \n",
       "\n",
       "     product_id  \n",
       "208       63594  \n",
       "209       63290  \n",
       "210       64872  \n",
       "247       63593  \n",
       "1665      56093  "
      ]
     },
     "execution_count": 55,
     "metadata": {},
     "output_type": "execute_result"
    }
   ],
   "source": [
    "df = pd.read_csv('products.csv',index_col=[0])\n",
    "df.head()"
   ]
  },
  {
   "cell_type": "code",
   "execution_count": 56,
   "id": "2df6cf6f",
   "metadata": {},
   "outputs": [
    {
     "data": {
      "text/plain": [
       "(323614, 3)"
      ]
     },
     "execution_count": 56,
     "metadata": {},
     "output_type": "execute_result"
    }
   ],
   "source": [
    "# işlem yapılacak veri sayısını verir.\n",
    "df.shape"
   ]
  },
  {
   "cell_type": "code",
   "execution_count": 57,
   "id": "c6505c7d",
   "metadata": {},
   "outputs": [
    {
     "data": {
      "text/plain": [
       "client        0\n",
       "timestamp     0\n",
       "product_id    0\n",
       "dtype: int64"
      ]
     },
     "execution_count": 57,
     "metadata": {},
     "output_type": "execute_result"
    }
   ],
   "source": [
    "# eksik değerleri kontrol eder.\n",
    "df.isnull().sum()"
   ]
  },
  {
   "cell_type": "code",
   "execution_count": 58,
   "id": "3ade8a0c",
   "metadata": {},
   "outputs": [],
   "source": [
    "# eksik olan değerleri kaldırır.\n",
    "df.dropna(inplace=True)\n",
    "df['product_id']= df['product_id'].astype(str)"
   ]
  },
  {
   "cell_type": "code",
   "execution_count": 59,
   "id": "78ccc55e",
   "metadata": {},
   "outputs": [
    {
     "data": {
      "text/plain": [
       "27799"
      ]
     },
     "execution_count": 59,
     "metadata": {},
     "output_type": "execute_result"
    }
   ],
   "source": [
    "#veri setindeki benzersiz müşteri sayısını kontrol eder\n",
    "customers = df[\"client\"].unique().tolist()\n",
    "len(customers)"
   ]
  },
  {
   "cell_type": "code",
   "execution_count": 61,
   "id": "7821be49",
   "metadata": {},
   "outputs": [],
   "source": [
    "# müşteri Id'lerini karıştırır\n",
    "random.shuffle(customers)\n",
    "\n",
    "# müşteri Id'lerinin %90'ını çıkarır.\n",
    "customers_train = [customers[i] for i in range(round(0.9*len(customers)))]\n",
    "\n",
    "# verileri train ve validationa ayırır.\n",
    "train_df = df[df['client'].isin(customers_train)]\n",
    "validation_df = df[~df['client'].isin(customers_train)]"
   ]
  },
  {
   "cell_type": "code",
   "execution_count": 62,
   "id": "30abec99",
   "metadata": {},
   "outputs": [
    {
     "name": "stderr",
     "output_type": "stream",
     "text": [
      "100%|██████████| 25019/25019 [17:42<00:00, 23.55it/s]\n"
     ]
    }
   ],
   "source": [
    "# müşterilerin satın alma geçmişini yakalamak için liste\n",
    "purchases_train = []\n",
    "\n",
    "# listeyi ürün kodlarıyla doldurur\n",
    "for i in tqdm(customers_train):\n",
    "    temp = train_df[train_df[\"client\"] == i][\"product_id\"].tolist()\n",
    "    purchases_train.append(temp)"
   ]
  },
  {
   "cell_type": "code",
   "execution_count": 63,
   "id": "ec9e6416",
   "metadata": {},
   "outputs": [
    {
     "name": "stderr",
     "output_type": "stream",
     "text": [
      "100%|██████████| 2780/2780 [00:16<00:00, 169.74it/s]\n"
     ]
    }
   ],
   "source": [
    "# müşterilerin satın alma geçmişini yakalamak için liste\n",
    "purchases_val = []\n",
    "\n",
    "# listeyi ürün kodlarıyla doldurur\n",
    "for i in tqdm(validation_df['client'].unique()):\n",
    "    temp = validation_df[validation_df[\"client\"] == i][\"product_id\"].tolist()\n",
    "    purchases_val.append(temp)"
   ]
  },
  {
   "cell_type": "code",
   "execution_count": 64,
   "id": "c7d8b645",
   "metadata": {},
   "outputs": [
    {
     "data": {
      "text/plain": [
       "(1891873, 2914180)"
      ]
     },
     "execution_count": 64,
     "metadata": {},
     "output_type": "execute_result"
    }
   ],
   "source": [
    "# train word2vec model\n",
    "model =   word2vec.Word2Vec(window = 10, sg = 1, hs = 0,\n",
    "                 negative = 10, # for negative sampling\n",
    "                 alpha=0.03, min_alpha=0.0007,\n",
    "                 seed = 14)\n",
    "\n",
    "model.build_vocab(purchases_train, progress_per=200)\n",
    "\n",
    "model.train(purchases_train, total_examples = model.corpus_count, \n",
    "            epochs=10, report_delay=1)\n",
    "\n"
   ]
  },
  {
   "cell_type": "code",
   "execution_count": 65,
   "id": "5dbdb6db",
   "metadata": {},
   "outputs": [],
   "source": [
    "#modeli bellek için daha verimli hale getirir.\n",
    "model.init_sims(replace=True)"
   ]
  },
  {
   "cell_type": "code",
   "execution_count": 66,
   "id": "580de5cc",
   "metadata": {},
   "outputs": [
    {
     "name": "stdout",
     "output_type": "stream",
     "text": [
      "Word2Vec<vocab=11177, vector_size=100, alpha=0.03>\n"
     ]
    }
   ],
   "source": [
    "#model özetini verir.\n",
    "print(model)"
   ]
  },
  {
   "cell_type": "code",
   "execution_count": 67,
   "id": "ebf89d3c",
   "metadata": {},
   "outputs": [
    {
     "data": {
      "text/plain": [
       "(11177, 100)"
      ]
     },
     "execution_count": 67,
     "metadata": {},
     "output_type": "execute_result"
    }
   ],
   "source": [
    "#tüm vektörleri çıkarır\n",
    "vocab = list(model.wv.key_to_index)\n",
    "X = model.wv[vocab]\n",
    "X.shape\n"
   ]
  },
  {
   "cell_type": "code",
   "execution_count": 68,
   "id": "2c5c43b2",
   "metadata": {},
   "outputs": [
    {
     "data": {
      "text/plain": [
       "<matplotlib.collections.PathCollection at 0x1f78880cb80>"
      ]
     },
     "execution_count": 68,
     "metadata": {},
     "output_type": "execute_result"
    },
    {
     "data": {
      "image/png": "[encoded data removed]",
      "text/plain": [
       "<Figure size 720x648 with 1 Axes>"
      ]
     },
     "metadata": {
      "needs_background": "light"
     },
     "output_type": "display_data"
    }
   ],
   "source": [
    "#Word2Vec gömmelerini görselleştirir.\n",
    "import umap.umap_ as umap\n",
    "cluster_embedding = umap.UMAP(n_neighbors=30, min_dist=0.0,\n",
    "                              n_components=2, random_state=42).fit_transform(X)\n",
    "\n",
    "plt.figure(figsize=(10,9))\n",
    "plt.scatter(cluster_embedding[:, 0], cluster_embedding[:, 1], s=3, cmap='Spectral')"
   ]
  },
  {
   "cell_type": "code",
   "execution_count": 69,
   "id": "a5a06661",
   "metadata": {},
   "outputs": [],
   "source": [
    "products = train_df[[\"product_id\", \"client\"]]\n",
    "\n",
    "# remove duplicates\n",
    "products.drop_duplicates(inplace=True, subset='product_id', keep=\"last\")\n",
    "\n",
    "# create product-ID and product-description dictionary\n",
    "products_dict = products.groupby('product_id')['client'].apply(list).to_dict()"
   ]
  },
  {
   "cell_type": "code",
   "execution_count": 70,
   "id": "20ef8d46",
   "metadata": {},
   "outputs": [
    {
     "data": {
      "text/plain": [
       "['0f526a95-cff0-46cc-ad77-906f86ff1e9a']"
      ]
     },
     "execution_count": 70,
     "metadata": {},
     "output_type": "execute_result"
    }
   ],
   "source": [
    "# test the dictionary\n",
    "products_dict['746882']"
   ]
  },
  {
   "cell_type": "code",
   "execution_count": 71,
   "id": "1cd5b68d",
   "metadata": {},
   "outputs": [],
   "source": [
    "def similar_products(v, n):\n",
    "    \n",
    "    # extract most similar products for the input vector\n",
    "    ms = model.wv.most_similar(v, topn= n+1)[1:]\n",
    "    \n",
    "    # extract name and similarity score of the similar products\n",
    "    new_ms = []\n",
    "    for j in ms:\n",
    "        pair = (products_dict[j[0]][0], j[1])\n",
    "        new_ms.append(pair)\n",
    "        \n",
    "    return new_ms  "
   ]
  },
  {
   "cell_type": "code",
   "execution_count": 72,
   "id": "53828cdf",
   "metadata": {},
   "outputs": [
    {
     "data": {
      "text/plain": [
       "[('1001335', 0.970515251159668),\n",
       " ('102965772', 0.9500181078910828),\n",
       " ('69716997', 0.9435670375823975),\n",
       " ('70251457', 0.9394763112068176),\n",
       " ('639638', 0.9362722039222717),\n",
       " ('639637', 0.9289524555206299),\n",
       " ('994564', 0.9052689671516418),\n",
       " ('880887', 0.9024561643600464),\n",
       " ('973081', 0.8942194581031799),\n",
       " ('42675622', 0.876154363155365)]"
      ]
     },
     "execution_count": 72,
     "metadata": {},
     "output_type": "execute_result"
    }
   ],
   "source": [
    "#tek bir ürün vektörüne göre benzer ürün önerme\n",
    "model.wv.most_similar('746882')"
   ]
  },
  {
   "cell_type": "code",
   "execution_count": 77,
   "id": "2c37ddd8",
   "metadata": {},
   "outputs": [],
   "source": [
    "#geçmiş satın alma işlemine göre önerme\n",
    "def aggregate_vectors(products):\n",
    "    product_vec = []\n",
    "    for i in products:\n",
    "        try:\n",
    "            product_vec.append(model.wv[i])\n",
    "        except KeyError:\n",
    "            continue\n",
    "        \n",
    "    return np.mean(product_vec, axis=0)"
   ]
  },
  {
   "cell_type": "code",
   "execution_count": 78,
   "id": "0432eb18",
   "metadata": {},
   "outputs": [
    {
     "data": {
      "text/plain": [
       "12"
      ]
     },
     "execution_count": 78,
     "metadata": {},
     "output_type": "execute_result"
    }
   ],
   "source": [
    "#Bir kullanıcı tarafından satın alınan ürünlerin ilk listesinin uzunluğu\n",
    "len(purchases_val[0])"
   ]
  },
  {
   "cell_type": "code",
   "execution_count": 79,
   "id": "58864533",
   "metadata": {},
   "outputs": [
    {
     "data": {
      "text/plain": [
       "(100,)"
      ]
     },
     "execution_count": 79,
     "metadata": {},
     "output_type": "execute_result"
    }
   ],
   "source": [
    "aggregate_vectors(purchases_val[0]).shape"
   ]
  },
  {
   "cell_type": "code",
   "execution_count": 80,
   "id": "18d1c6b3",
   "metadata": {},
   "outputs": [
    {
     "data": {
      "text/plain": [
       "[('9cbeb70d-8459-4a3f-ac80-572eac6c6c06', 0.9482565522193909),\n",
       " ('ff31e26a-4fef-425f-97c2-5456f08945fe', 0.9474012851715088),\n",
       " ('e86e8778-d4e6-40ad-972f-6a39aba015f4', 0.9124858379364014),\n",
       " ('f28730a8-4e36-47c4-a79b-1d2d1b7fe051', 0.8959090709686279),\n",
       " ('eda1bea6-9130-463f-a765-fc891ba3f794', 0.8825235366821289),\n",
       " ('ae48f5cf-b18e-4b14-ba4f-6b88e700fd4f', 0.8749083876609802)]"
      ]
     },
     "execution_count": 80,
     "metadata": {},
     "output_type": "execute_result"
    }
   ],
   "source": [
    "#sistemimiz bir kullanıcının tüm satın alma geçmişine dayalı olarak 6 ürün önerdi.\n",
    "similar_products(aggregate_vectors(purchases_val[0]),6)"
   ]
  },
  {
   "cell_type": "code",
   "execution_count": 81,
   "id": "23a1753b",
   "metadata": {},
   "outputs": [
    {
     "data": {
      "text/plain": [
       "[('9cbeb70d-8459-4a3f-ac80-572eac6c6c06', 0.954931378364563),\n",
       " ('ff31e26a-4fef-425f-97c2-5456f08945fe', 0.9359538555145264),\n",
       " ('e86e8778-d4e6-40ad-972f-6a39aba015f4', 0.915549635887146),\n",
       " ('f28730a8-4e36-47c4-a79b-1d2d1b7fe051', 0.8991554975509644),\n",
       " ('eda1bea6-9130-463f-a765-fc891ba3f794', 0.8835961818695068),\n",
       " ('ae48f5cf-b18e-4b14-ba4f-6b88e700fd4f', 0.879575788974762)]"
      ]
     },
     "execution_count": 81,
     "metadata": {},
     "output_type": "execute_result"
    }
   ],
   "source": [
    "#satın alınan son 10 ürün\n",
    "similar_products(aggregate_vectors(purchases_val[0][-10:]),6)"
   ]
  },
  {
   "cell_type": "code",
   "execution_count": null,
   "id": "71a5218c",
   "metadata": {},
   "outputs": [],
   "source": []
  }
 ],
 "metadata": {
  "kernelspec": {
   "display_name": "Python 3 (ipykernel)",
   "language": "python",
   "name": "python3"
  },
  "language_info": {
   "codemirror_mode": {
    "name": "ipython",
    "version": 3
   },
   "file_extension": ".py",
   "mimetype": "text/x-python",
   "name": "python",
   "nbconvert_exporter": "python",
   "pygments_lexer": "ipython3",
   "version": "3.9.7"
  }
 },
 "nbformat": 4,
 "nbformat_minor": 5
}
