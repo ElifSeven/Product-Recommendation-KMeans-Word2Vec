{
 "cells": [
  {
   "cell_type": "markdown",
   "id": "13de929c-d3f6-42b2-b6a6-ef52b849f097",
   "metadata": {
    "id": "13de929c-d3f6-42b2-b6a6-ef52b849f097"
   },
   "source": [
    "## PART1 - Data Cleaning & Exploratory Data Analysis & Visualization\n"
   ]
  },
  {
   "cell_type": "code",
   "execution_count": 3,
   "id": "18391f39-76d2-41a1-8ff0-6ad09bb3d12c",
   "metadata": {
    "id": "18391f39-76d2-41a1-8ff0-6ad09bb3d12c"
   },
   "outputs": [],
   "source": [
    "import warnings\n",
    "warnings.filterwarnings('ignore')\n",
    "\n",
    "\n",
    "import numpy as np\n",
    "import pandas as pd\n",
    "import matplotlib.pyplot as plt\n",
    "\n",
    "# %matplotlib inline\n",
    "plt.style.use(\"ggplot\")\n",
    "\n",
    "import sklearn\n",
    "from sklearn.decomposition import TruncatedSVD\n",
    "import seaborn as sns\n",
    "from sklearn.neighbors import KNeighborsClassifier\n",
    "\n",
    "import random\n",
    "from tqdm import tqdm\n",
    "#from gensim.models import Word2Vec \n",
    "\n",
    "from IPython.display import display, HTML\n",
    "\n",
    "%matplotlib inline"
   ]
  },
  {
   "cell_type": "markdown",
   "id": "620de4b6-2faa-4fe6-a5e3-08d3397f10fb",
   "metadata": {
    "id": "620de4b6-2faa-4fe6-a5e3-08d3397f10fb"
   },
   "source": [
    "#### Loading the Dataset"
   ]
  },
  {
   "cell_type": "code",
   "execution_count": 5,
   "id": "8c562f66-5fc7-418e-8a32-65077c0a8550",
   "metadata": {
    "id": "8c562f66-5fc7-418e-8a32-65077c0a8550"
   },
   "outputs": [],
   "source": [
    "def product_view_based_data():\n",
    "  products = pd.read_csv(\"products.csv\",index_col=[0])\n",
    "  products.columns = ['Client','Timestamp','ProductId'] # renaming columns\n",
    "    \n",
    "  data = products.copy() ## to protect previous version\n",
    "\n",
    "  return data"
   ]
  },
  {
   "cell_type": "code",
   "execution_count": 6,
   "id": "fdfcd418-eeae-40e5-a5de-cdf4b108fed2",
   "metadata": {
    "colab": {
     "base_uri": "https://localhost:8080/",
     "height": 215
    },
    "id": "fdfcd418-eeae-40e5-a5de-cdf4b108fed2",
    "outputId": "e28b48f1-8f85-4516-875c-6d6473fb8eab"
   },
   "outputs": [
    {
     "data": {
      "text/html": [
       "<div>\n",
       "<style scoped>\n",
       "    .dataframe tbody tr th:only-of-type {\n",
       "        vertical-align: middle;\n",
       "    }\n",
       "\n",
       "    .dataframe tbody tr th {\n",
       "        vertical-align: top;\n",
       "    }\n",
       "\n",
       "    .dataframe thead th {\n",
       "        text-align: right;\n",
       "    }\n",
       "</style>\n",
       "<table border=\"1\" class=\"dataframe\">\n",
       "  <thead>\n",
       "    <tr style=\"text-align: right;\">\n",
       "      <th></th>\n",
       "      <th>Client</th>\n",
       "      <th>Timestamp</th>\n",
       "      <th>ProductId</th>\n",
       "    </tr>\n",
       "  </thead>\n",
       "  <tbody>\n",
       "    <tr>\n",
       "      <th>208</th>\n",
       "      <td>85ab8f53-b934-49dd-8d54-479ed08499f6</td>\n",
       "      <td>2021-08-29 17:05:45.368000+00:00</td>\n",
       "      <td>63594</td>\n",
       "    </tr>\n",
       "    <tr>\n",
       "      <th>209</th>\n",
       "      <td>85ab8f53-b934-49dd-8d54-479ed08499f6</td>\n",
       "      <td>2021-08-29 17:07:02.711000+00:00</td>\n",
       "      <td>63290</td>\n",
       "    </tr>\n",
       "    <tr>\n",
       "      <th>210</th>\n",
       "      <td>85ab8f53-b934-49dd-8d54-479ed08499f6</td>\n",
       "      <td>2021-08-29 17:08:51.306000+00:00</td>\n",
       "      <td>64872</td>\n",
       "    </tr>\n",
       "    <tr>\n",
       "      <th>247</th>\n",
       "      <td>46989f50-87f9-4ece-9db3-cffaa3bf2278</td>\n",
       "      <td>2021-08-29 19:23:07.176000+00:00</td>\n",
       "      <td>63593</td>\n",
       "    </tr>\n",
       "    <tr>\n",
       "      <th>1665</th>\n",
       "      <td>dbbcd1c1-c0ca-4eed-b144-736fc40f6d24</td>\n",
       "      <td>2021-08-29 20:00:40.706000+00:00</td>\n",
       "      <td>56093</td>\n",
       "    </tr>\n",
       "  </tbody>\n",
       "</table>\n",
       "</div>"
      ],
      "text/plain": [
       "                                    Client                         Timestamp  \\\n",
       "208   85ab8f53-b934-49dd-8d54-479ed08499f6  2021-08-29 17:05:45.368000+00:00   \n",
       "209   85ab8f53-b934-49dd-8d54-479ed08499f6  2021-08-29 17:07:02.711000+00:00   \n",
       "210   85ab8f53-b934-49dd-8d54-479ed08499f6  2021-08-29 17:08:51.306000+00:00   \n",
       "247   46989f50-87f9-4ece-9db3-cffaa3bf2278  2021-08-29 19:23:07.176000+00:00   \n",
       "1665  dbbcd1c1-c0ca-4eed-b144-736fc40f6d24  2021-08-29 20:00:40.706000+00:00   \n",
       "\n",
       "     ProductId  \n",
       "208      63594  \n",
       "209      63290  \n",
       "210      64872  \n",
       "247      63593  \n",
       "1665     56093  "
      ]
     },
     "execution_count": 6,
     "metadata": {},
     "output_type": "execute_result"
    }
   ],
   "source": [
    "product_view_data = product_view_based_data()\n",
    "product_view_data.head()"
   ]
  },
  {
   "cell_type": "code",
   "execution_count": 7,
   "id": "5ffefbf8-936e-44fe-8784-123ba2c084bb",
   "metadata": {
    "colab": {
     "base_uri": "https://localhost:8080/",
     "height": 215
    },
    "id": "5ffefbf8-936e-44fe-8784-123ba2c084bb",
    "outputId": "d8863fb6-0764-401d-9ba8-53fe7a329cb3"
   },
   "outputs": [
    {
     "data": {
      "text/html": [
       "<div>\n",
       "<style scoped>\n",
       "    .dataframe tbody tr th:only-of-type {\n",
       "        vertical-align: middle;\n",
       "    }\n",
       "\n",
       "    .dataframe tbody tr th {\n",
       "        vertical-align: top;\n",
       "    }\n",
       "\n",
       "    .dataframe thead th {\n",
       "        text-align: right;\n",
       "    }\n",
       "</style>\n",
       "<table border=\"1\" class=\"dataframe\">\n",
       "  <thead>\n",
       "    <tr style=\"text-align: right;\">\n",
       "      <th></th>\n",
       "      <th>Client</th>\n",
       "      <th>Timestamp</th>\n",
       "      <th>ProductId</th>\n",
       "    </tr>\n",
       "  </thead>\n",
       "  <tbody>\n",
       "    <tr>\n",
       "      <th>17004826</th>\n",
       "      <td>8776db01-284d-435d-8a59-33cb75d8bf63</td>\n",
       "      <td>2021-09-14 16:17:36.304000+00:00</td>\n",
       "      <td>615292687</td>\n",
       "    </tr>\n",
       "    <tr>\n",
       "      <th>17004827</th>\n",
       "      <td>8776db01-284d-435d-8a59-33cb75d8bf63</td>\n",
       "      <td>2021-09-14 16:26:08.205000+00:00</td>\n",
       "      <td>113877068</td>\n",
       "    </tr>\n",
       "    <tr>\n",
       "      <th>17004886</th>\n",
       "      <td>5c48ff59-358d-4b7d-823d-21ce7b4b7d3b</td>\n",
       "      <td>2021-09-14 20:13:18.263000+00:00</td>\n",
       "      <td>745895506</td>\n",
       "    </tr>\n",
       "    <tr>\n",
       "      <th>17004950</th>\n",
       "      <td>e522131c-c63a-476e-b9c2-d2c9e25b3956</td>\n",
       "      <td>2021-09-14 10:15:28.010000+00:00</td>\n",
       "      <td>350993703</td>\n",
       "    </tr>\n",
       "    <tr>\n",
       "      <th>17005068</th>\n",
       "      <td>397f7431-3eba-4fff-acd3-818a64e5e26b</td>\n",
       "      <td>2021-09-14 10:19:12.904000+00:00</td>\n",
       "      <td>599284204</td>\n",
       "    </tr>\n",
       "  </tbody>\n",
       "</table>\n",
       "</div>"
      ],
      "text/plain": [
       "                                        Client  \\\n",
       "17004826  8776db01-284d-435d-8a59-33cb75d8bf63   \n",
       "17004827  8776db01-284d-435d-8a59-33cb75d8bf63   \n",
       "17004886  5c48ff59-358d-4b7d-823d-21ce7b4b7d3b   \n",
       "17004950  e522131c-c63a-476e-b9c2-d2c9e25b3956   \n",
       "17005068  397f7431-3eba-4fff-acd3-818a64e5e26b   \n",
       "\n",
       "                                 Timestamp  ProductId  \n",
       "17004826  2021-09-14 16:17:36.304000+00:00  615292687  \n",
       "17004827  2021-09-14 16:26:08.205000+00:00  113877068  \n",
       "17004886  2021-09-14 20:13:18.263000+00:00  745895506  \n",
       "17004950  2021-09-14 10:15:28.010000+00:00  350993703  \n",
       "17005068  2021-09-14 10:19:12.904000+00:00  599284204  "
      ]
     },
     "execution_count": 7,
     "metadata": {},
     "output_type": "execute_result"
    }
   ],
   "source": [
    "product_view_data.tail()"
   ]
  },
  {
   "cell_type": "markdown",
   "id": "bd19fb8d-21e0-4be3-adcd-ca8f42a134f0",
   "metadata": {
    "id": "bd19fb8d-21e0-4be3-adcd-ca8f42a134f0"
   },
   "source": [
    "#### Structured Information of Dataset"
   ]
  },
  {
   "cell_type": "code",
   "execution_count": 8,
   "id": "bfb8d890-1f7b-463b-95e3-68a5d71b5fad",
   "metadata": {
    "colab": {
     "base_uri": "https://localhost:8080/"
    },
    "id": "bfb8d890-1f7b-463b-95e3-68a5d71b5fad",
    "outputId": "a2b940b2-944b-416d-bf85-3def507cff89"
   },
   "outputs": [
    {
     "name": "stdout",
     "output_type": "stream",
     "text": [
      "Shape: (323614, 3)\n",
      "Column names: Index(['Client', 'Timestamp', 'ProductId'], dtype='object')\n"
     ]
    }
   ],
   "source": [
    "print(\"Shape: %s\" % str(product_view_data.shape))\n",
    "print(\"Column names: %s\" % str(product_view_data.columns))"
   ]
  },
  {
   "cell_type": "code",
   "execution_count": 9,
   "id": "555a4bad-05e8-4f22-b5ef-2326aa58d75f",
   "metadata": {
    "colab": {
     "base_uri": "https://localhost:8080/"
    },
    "id": "555a4bad-05e8-4f22-b5ef-2326aa58d75f",
    "outputId": "2cca1591-0f80-4dd5-b295-95d505d27b0b"
   },
   "outputs": [
    {
     "name": "stdout",
     "output_type": "stream",
     "text": [
      "<class 'pandas.core.frame.DataFrame'>\n",
      "Int64Index: 323614 entries, 208 to 17005068\n",
      "Data columns (total 3 columns):\n",
      " #   Column     Non-Null Count   Dtype \n",
      "---  ------     --------------   ----- \n",
      " 0   Client     323614 non-null  object\n",
      " 1   Timestamp  323614 non-null  object\n",
      " 2   ProductId  323614 non-null  object\n",
      "dtypes: object(3)\n",
      "memory usage: 9.9+ MB\n"
     ]
    }
   ],
   "source": [
    "product_view_data.info()"
   ]
  },
  {
   "cell_type": "code",
   "execution_count": 10,
   "id": "2f20c11d-5266-4c5b-9559-55ca0e168216",
   "metadata": {
    "colab": {
     "base_uri": "https://localhost:8080/",
     "height": 143
    },
    "id": "2f20c11d-5266-4c5b-9559-55ca0e168216",
    "outputId": "c0ca3d69-d125-4b53-bc0a-da49d943aac7"
   },
   "outputs": [
    {
     "data": {
      "text/html": [
       "<div>\n",
       "<style scoped>\n",
       "    .dataframe tbody tr th:only-of-type {\n",
       "        vertical-align: middle;\n",
       "    }\n",
       "\n",
       "    .dataframe tbody tr th {\n",
       "        vertical-align: top;\n",
       "    }\n",
       "\n",
       "    .dataframe thead th {\n",
       "        text-align: right;\n",
       "    }\n",
       "</style>\n",
       "<table border=\"1\" class=\"dataframe\">\n",
       "  <thead>\n",
       "    <tr style=\"text-align: right;\">\n",
       "      <th></th>\n",
       "      <th>count</th>\n",
       "      <th>unique</th>\n",
       "      <th>top</th>\n",
       "      <th>freq</th>\n",
       "    </tr>\n",
       "  </thead>\n",
       "  <tbody>\n",
       "    <tr>\n",
       "      <th>Client</th>\n",
       "      <td>323614</td>\n",
       "      <td>27799</td>\n",
       "      <td>83171363-2d52-4e96-be88-0e902ebf6055</td>\n",
       "      <td>15</td>\n",
       "    </tr>\n",
       "    <tr>\n",
       "      <th>Timestamp</th>\n",
       "      <td>323614</td>\n",
       "      <td>323573</td>\n",
       "      <td>2021-09-11 23:03:51.562000+00:00</td>\n",
       "      <td>2</td>\n",
       "    </tr>\n",
       "    <tr>\n",
       "      <th>ProductId</th>\n",
       "      <td>323614</td>\n",
       "      <td>83622</td>\n",
       "      <td>752126531</td>\n",
       "      <td>581</td>\n",
       "    </tr>\n",
       "  </tbody>\n",
       "</table>\n",
       "</div>"
      ],
      "text/plain": [
       "            count  unique                                   top freq\n",
       "Client     323614   27799  83171363-2d52-4e96-be88-0e902ebf6055   15\n",
       "Timestamp  323614  323573      2021-09-11 23:03:51.562000+00:00    2\n",
       "ProductId  323614   83622                             752126531  581"
      ]
     },
     "execution_count": 10,
     "metadata": {},
     "output_type": "execute_result"
    }
   ],
   "source": [
    "product_view_data.describe().T"
   ]
  },
  {
   "cell_type": "markdown",
   "id": "16548ac1-0442-4475-b79d-abde22cf08aa",
   "metadata": {},
   "source": [
    "### Sort the dataframe by 'Timestamp' in Descending order\n"
   ]
  },
  {
   "cell_type": "code",
   "execution_count": 11,
   "id": "ff300761-a866-414f-9de9-cf3e773c372b",
   "metadata": {},
   "outputs": [
    {
     "data": {
      "text/html": [
       "<div>\n",
       "<style scoped>\n",
       "    .dataframe tbody tr th:only-of-type {\n",
       "        vertical-align: middle;\n",
       "    }\n",
       "\n",
       "    .dataframe tbody tr th {\n",
       "        vertical-align: top;\n",
       "    }\n",
       "\n",
       "    .dataframe thead th {\n",
       "        text-align: right;\n",
       "    }\n",
       "</style>\n",
       "<table border=\"1\" class=\"dataframe\">\n",
       "  <thead>\n",
       "    <tr style=\"text-align: right;\">\n",
       "      <th></th>\n",
       "      <th>Client</th>\n",
       "      <th>Timestamp</th>\n",
       "      <th>ProductId</th>\n",
       "    </tr>\n",
       "  </thead>\n",
       "  <tbody>\n",
       "    <tr>\n",
       "      <th>12816843</th>\n",
       "      <td>c34f7696-1b94-4b90-85e3-55bddb0736ff</td>\n",
       "      <td>2021-09-19 20:59:51.447000+00:00</td>\n",
       "      <td>330910959</td>\n",
       "    </tr>\n",
       "    <tr>\n",
       "      <th>14039649</th>\n",
       "      <td>c34f7696-1b94-4b90-85e3-55bddb0736ff</td>\n",
       "      <td>2021-09-19 20:59:22.723000+00:00</td>\n",
       "      <td>a704117540</td>\n",
       "    </tr>\n",
       "    <tr>\n",
       "      <th>9490286</th>\n",
       "      <td>a46cd409-8c53-4434-99c4-cdb81b673219</td>\n",
       "      <td>2021-09-19 20:59:12.794000+00:00</td>\n",
       "      <td>88123936</td>\n",
       "    </tr>\n",
       "    <tr>\n",
       "      <th>16484288</th>\n",
       "      <td>aca66064-3e9d-4567-9346-538a4d835d89</td>\n",
       "      <td>2021-09-19 20:59:09.392000+00:00</td>\n",
       "      <td>a168531398</td>\n",
       "    </tr>\n",
       "    <tr>\n",
       "      <th>15589460</th>\n",
       "      <td>71258f55-c310-4825-ac0c-f60e4b68a8cc</td>\n",
       "      <td>2021-09-19 20:58:56.350000+00:00</td>\n",
       "      <td>a618220837</td>\n",
       "    </tr>\n",
       "    <tr>\n",
       "      <th>14039648</th>\n",
       "      <td>c34f7696-1b94-4b90-85e3-55bddb0736ff</td>\n",
       "      <td>2021-09-19 20:58:40.237000+00:00</td>\n",
       "      <td>647190730</td>\n",
       "    </tr>\n",
       "    <tr>\n",
       "      <th>10367291</th>\n",
       "      <td>aca66064-3e9d-4567-9346-538a4d835d89</td>\n",
       "      <td>2021-09-19 20:58:36.773000+00:00</td>\n",
       "      <td>711495426</td>\n",
       "    </tr>\n",
       "    <tr>\n",
       "      <th>7918966</th>\n",
       "      <td>314f66b9-9155-4ab4-8c37-531e0098ecd9</td>\n",
       "      <td>2021-09-19 20:58:21.346000+00:00</td>\n",
       "      <td>a775993387</td>\n",
       "    </tr>\n",
       "    <tr>\n",
       "      <th>15589459</th>\n",
       "      <td>71258f55-c310-4825-ac0c-f60e4b68a8cc</td>\n",
       "      <td>2021-09-19 20:58:18.187000+00:00</td>\n",
       "      <td>a618220837</td>\n",
       "    </tr>\n",
       "    <tr>\n",
       "      <th>7923941</th>\n",
       "      <td>c34f7696-1b94-4b90-85e3-55bddb0736ff</td>\n",
       "      <td>2021-09-19 20:58:17.373000+00:00</td>\n",
       "      <td>605330268</td>\n",
       "    </tr>\n",
       "  </tbody>\n",
       "</table>\n",
       "</div>"
      ],
      "text/plain": [
       "                                        Client  \\\n",
       "12816843  c34f7696-1b94-4b90-85e3-55bddb0736ff   \n",
       "14039649  c34f7696-1b94-4b90-85e3-55bddb0736ff   \n",
       "9490286   a46cd409-8c53-4434-99c4-cdb81b673219   \n",
       "16484288  aca66064-3e9d-4567-9346-538a4d835d89   \n",
       "15589460  71258f55-c310-4825-ac0c-f60e4b68a8cc   \n",
       "14039648  c34f7696-1b94-4b90-85e3-55bddb0736ff   \n",
       "10367291  aca66064-3e9d-4567-9346-538a4d835d89   \n",
       "7918966   314f66b9-9155-4ab4-8c37-531e0098ecd9   \n",
       "15589459  71258f55-c310-4825-ac0c-f60e4b68a8cc   \n",
       "7923941   c34f7696-1b94-4b90-85e3-55bddb0736ff   \n",
       "\n",
       "                                 Timestamp   ProductId  \n",
       "12816843  2021-09-19 20:59:51.447000+00:00   330910959  \n",
       "14039649  2021-09-19 20:59:22.723000+00:00  a704117540  \n",
       "9490286   2021-09-19 20:59:12.794000+00:00    88123936  \n",
       "16484288  2021-09-19 20:59:09.392000+00:00  a168531398  \n",
       "15589460  2021-09-19 20:58:56.350000+00:00  a618220837  \n",
       "14039648  2021-09-19 20:58:40.237000+00:00   647190730  \n",
       "10367291  2021-09-19 20:58:36.773000+00:00   711495426  \n",
       "7918966   2021-09-19 20:58:21.346000+00:00  a775993387  \n",
       "15589459  2021-09-19 20:58:18.187000+00:00  a618220837  \n",
       "7923941   2021-09-19 20:58:17.373000+00:00   605330268  "
      ]
     },
     "execution_count": 11,
     "metadata": {},
     "output_type": "execute_result"
    }
   ],
   "source": [
    "product_view_data_sorted = product_view_data.sort_values(by = 'Timestamp', ascending = False) \n",
    "product_view_data_sorted.head(10)"
   ]
  },
  {
   "cell_type": "markdown",
   "id": "12989283-02f6-47c8-b56e-33639a5038f3",
   "metadata": {
    "id": "12989283-02f6-47c8-b56e-33639a5038f3"
   },
   "source": [
    "### Analyze of Missing Values\n"
   ]
  },
  {
   "cell_type": "code",
   "execution_count": 12,
   "id": "6c5aa924-d3fe-4f38-9383-9d93aa102def",
   "metadata": {
    "colab": {
     "base_uri": "https://localhost:8080/"
    },
    "id": "6c5aa924-d3fe-4f38-9383-9d93aa102def",
    "outputId": "fd2e4ed1-a2fe-4741-d8dc-e78edaee1339"
   },
   "outputs": [
    {
     "data": {
      "text/plain": [
       "False"
      ]
     },
     "execution_count": 12,
     "metadata": {},
     "output_type": "execute_result"
    }
   ],
   "source": [
    "product_view_data_sorted.isnull().values.any()  # Is There any missing value?"
   ]
  },
  {
   "cell_type": "markdown",
   "id": "c4e8610b-f02f-4061-bc1f-e8b0a0cc58cc",
   "metadata": {
    "id": "c4e8610b-f02f-4061-bc1f-e8b0a0cc58cc"
   },
   "source": [
    "###  Unique Clients and Products"
   ]
  },
  {
   "cell_type": "code",
   "execution_count": 13,
   "id": "a395cd91-c65a-4739-b622-609b387156ee",
   "metadata": {
    "colab": {
     "base_uri": "https://localhost:8080/"
    },
    "id": "a395cd91-c65a-4739-b622-609b387156ee",
    "outputId": "a77826a2-9b3a-4d88-b8be-55219f493ae3"
   },
   "outputs": [
    {
     "name": "stdout",
     "output_type": "stream",
     "text": [
      "Unique Client count: 27799\n",
      "Unique ProductID count: 83622\n"
     ]
    }
   ],
   "source": [
    "print(\"Unique Client count: %s\" % str(product_view_data_sorted.Client.nunique()))\n",
    "print(\"Unique ProductID count: %s\" % str(product_view_data_sorted.ProductId.nunique()))"
   ]
  },
  {
   "cell_type": "markdown",
   "id": "0d295404-9086-433a-8642-41ee8b920c10",
   "metadata": {
    "id": "0d295404-9086-433a-8642-41ee8b920c10"
   },
   "source": [
    "### Count of the number of Client per ProductId\n"
   ]
  },
  {
   "cell_type": "code",
   "execution_count": 14,
   "id": "156b8f25-6983-48d6-9120-89e03d78ed04",
   "metadata": {
    "colab": {
     "base_uri": "https://localhost:8080/"
    },
    "id": "156b8f25-6983-48d6-9120-89e03d78ed04",
    "outputId": "e6fb76b4-a96b-48f4-ddec-1677770845b8"
   },
   "outputs": [
    {
     "data": {
      "text/plain": [
       "Client\n",
       "fff8924d-cee8-43ae-a40a-8d398d912821    14\n",
       "fffc2c60-bee1-4df9-8d3b-678e53c16849    14\n",
       "fffc847c-3e99-42eb-b197-067d6dd001d0    11\n",
       "ffffb04e-90e4-4321-b5e1-44071d2a9310    10\n",
       "ffffded9-2ab0-4294-83a0-a047ca9355d9    13\n",
       "Name: ProductId, dtype: int64"
      ]
     },
     "execution_count": 14,
     "metadata": {},
     "output_type": "execute_result"
    }
   ],
   "source": [
    "client_rating_count = product_view_data_sorted.groupby('Client')['ProductId'].count()\n",
    "client_rating_count.tail()"
   ]
  },
  {
   "cell_type": "markdown",
   "id": "512063f7-e06a-451a-8321-136bc3cdadef",
   "metadata": {
    "id": "512063f7-e06a-451a-8321-136bc3cdadef"
   },
   "source": [
    "###  Count of the number of ProductId per Client"
   ]
  },
  {
   "cell_type": "code",
   "execution_count": 15,
   "id": "0def399f-b4a7-4d43-a63e-abec27c7c3c9",
   "metadata": {
    "colab": {
     "base_uri": "https://localhost:8080/"
    },
    "id": "0def399f-b4a7-4d43-a63e-abec27c7c3c9",
    "outputId": "2eb3f5b8-0f0e-40ac-d974-86c83998071c"
   },
   "outputs": [
    {
     "data": {
      "text/plain": [
       "ProductId\n",
       "a97507228    2\n",
       "a982         1\n",
       "a984         1\n",
       "a99991095    1\n",
       "a99991314    1\n",
       "Name: Client, dtype: int64"
      ]
     },
     "execution_count": 15,
     "metadata": {},
     "output_type": "execute_result"
    }
   ],
   "source": [
    "product_rating_count = product_view_data_sorted.groupby('ProductId')['Client'].count()\n",
    "product_rating_count.tail()"
   ]
  },
  {
   "cell_type": "markdown",
   "id": "198093bc-5b0f-4ed7-bb8c-09f7147bf942",
   "metadata": {
    "id": "198093bc-5b0f-4ed7-bb8c-09f7147bf942"
   },
   "source": [
    "### Grouping & Remove Consecutive duplicates from list"
   ]
  },
  {
   "cell_type": "code",
   "execution_count": 16,
   "id": "9c8b6846-11a9-457f-acfb-1b2e705b2d4e",
   "metadata": {
    "id": "9c8b6846-11a9-457f-acfb-1b2e705b2d4e"
   },
   "outputs": [],
   "source": [
    "group_products = product_view_data_sorted"
   ]
  },
  {
   "cell_type": "code",
   "execution_count": 17,
   "id": "12ed9d2c-2476-44b8-b57b-f9aecc8f95cf",
   "metadata": {
    "id": "12ed9d2c-2476-44b8-b57b-f9aecc8f95cf"
   },
   "outputs": [
    {
     "data": {
      "text/plain": [
       "Client\n",
       "00045004-2f96-4b2e-a52c-aa56f2b1e106    [730590443, 688039967, 598825601, 192442392, 5...\n",
       "00052e64-c4a0-4fd7-be62-755fb090ed40    [938945, 49179527, 625689306, 923374, 13482512...\n",
       "0012135d-b7fa-4609-ade9-384a508fe575    [651139042, 651139042, 651139042, 672170283, 7...\n",
       "0014f761-ed42-4d8a-9472-64dc837c6884    [141113564, 744000179, 756831584, 73147595, 20...\n",
       "001754ec-8139-4270-b32b-58c0fece3bef    [168610531, 21699, 459328, 571169, 22029, 2202...\n",
       "Name: ProductId, dtype: object"
      ]
     },
     "execution_count": 17,
     "metadata": {},
     "output_type": "execute_result"
    }
   ],
   "source": [
    "df_product = group_products.groupby('Client')['ProductId'].apply(list)\n",
    "df_product.head()"
   ]
  },
  {
   "cell_type": "markdown",
   "id": "9d48fe35-c3d9-408e-8958-2232c598e29a",
   "metadata": {},
   "source": [
    "#### Extract to csv format"
   ]
  },
  {
   "cell_type": "code",
   "execution_count": 18,
   "id": "394caea4-d929-4a0c-96e9-ff635bb03cab",
   "metadata": {},
   "outputs": [],
   "source": [
    "df_product.to_csv(\"sorteddata.csv\",sep=',')"
   ]
  },
  {
   "cell_type": "markdown",
   "id": "7d964d14-a0a2-469b-9103-a11a12ecd03e",
   "metadata": {},
   "source": [
    "#### Remove sequences product"
   ]
  },
  {
   "cell_type": "code",
   "execution_count": 19,
   "id": "24870149-fec4-4bb6-afb3-eda6e176b589",
   "metadata": {},
   "outputs": [],
   "source": [
    "# remove consecutive duplicates from list\n",
    "def remove_consec_duplicates(raw_lst):\n",
    "  previous_value = None\n",
    "  new_lst = []\n",
    "\n",
    "  for elem in raw_lst:\n",
    "    if elem != previous_value:\n",
    "        new_lst.append(elem)\n",
    "        previous_value = elem\n",
    "\n",
    "        \n",
    "  return new_lst"
   ]
  },
  {
   "cell_type": "code",
   "execution_count": 20,
   "id": "9515e5b2-59de-444e-8bbd-627d0fd510cd",
   "metadata": {},
   "outputs": [],
   "source": [
    "cleaned_product_data = df_product.apply(remove_consec_duplicates)"
   ]
  },
  {
   "cell_type": "code",
   "execution_count": 21,
   "id": "2e9a51d5-85c3-49b6-ba3e-8bb7a15591e3",
   "metadata": {},
   "outputs": [],
   "source": [
    "cleaned_product_data.to_csv(\"cleaned-data.csv\",sep=',')"
   ]
  },
  {
   "cell_type": "code",
   "execution_count": 22,
   "id": "e6088e46-3878-4efe-a8d8-0577ebb6d758",
   "metadata": {},
   "outputs": [],
   "source": [
    "model_data = cleaned_product_data"
   ]
  },
  {
   "cell_type": "code",
   "execution_count": 23,
   "id": "77d149f7-4e8f-40ae-833c-105cc44bceb8",
   "metadata": {},
   "outputs": [],
   "source": [
    "model_data = model_data.to_frame()"
   ]
  },
  {
   "cell_type": "code",
   "execution_count": 24,
   "id": "6d0bdd75-2dde-4ec7-9ddd-daa0aefa1181",
   "metadata": {},
   "outputs": [
    {
     "data": {
      "text/plain": [
       "Index(['ProductId'], dtype='object')"
      ]
     },
     "execution_count": 24,
     "metadata": {},
     "output_type": "execute_result"
    }
   ],
   "source": [
    "type(model_data)\n",
    "model_data.columns"
   ]
  },
  {
   "cell_type": "markdown",
   "id": "e3f56b6b-11ea-4056-9c3a-02afc1d7aa17",
   "metadata": {
    "id": "Bq1h5aBbamU6"
   },
   "source": [
    "### MODEL"
   ]
  },
  {
   "cell_type": "code",
   "execution_count": 89,
   "id": "6ebbfe07-19e0-4d6e-a6ec-03c7e1de13fe",
   "metadata": {},
   "outputs": [],
   "source": [
    "def create_product_embeddings():\n",
    "      import gensim\n",
    "      from gensim.models import Word2Vec \n",
    " \n",
    "  \n",
    "  # Create Gensim CBOW model\n",
    "      view_product_sequences = model_data['ProductId'].apply(list)\n",
    "      word2vec_model = Word2Vec(sentences = view_product_sequences,vector_size=10,window=5, min_count = 1, workers=4)\n",
    "      word2vec_model.save(\"word2vec.model\")\n",
    "      word2vec_model = Word2Vec.load(\"word2vec.model\")\n",
    "\n",
    "  # numpy.ndarrays of product vectors\n",
    "      product_vectors = word2vec_model.wv.vectors\n",
    "\n",
    "      productID_list = list(word2vec_model.wv.key_to_index.keys())\n",
    "\n",
    "\n",
    "      vector_list = word2vec_model.wv.vectors.tolist()\n",
    "      data_tuples = list(zip(productID_list,vector_list))\n",
    "      product_ids_and_vectors = pd.DataFrame(data_tuples, columns=['Product_ID','Vectors'])\n",
    "\n",
    "      return product_ids_and_vectors"
   ]
  },
  {
   "cell_type": "code",
   "execution_count": 90,
   "id": "bfd17d2f-4dc2-40e2-8d5a-e72af7ff0614",
   "metadata": {
    "collapsed": true,
    "jupyter": {
     "outputs_hidden": true
    },
    "tags": []
   },
   "outputs": [
    {
     "name": "stderr",
     "output_type": "stream",
     "text": [
      "2022-05-31 19:11:24,305 : INFO : collecting all words and their counts\n",
      "2022-05-31 19:11:24,305 : INFO : PROGRESS: at sentence #0, processed 0 words, keeping 0 word types\n",
      "2022-05-31 19:11:24,409 : INFO : PROGRESS: at sentence #10000, processed 101648 words, keeping 40240 word types\n",
      "2022-05-31 19:11:24,513 : INFO : PROGRESS: at sentence #20000, processed 202596 words, keeping 66297 word types\n",
      "2022-05-31 19:11:24,585 : INFO : collected 83622 word types from a corpus of 281473 raw words and 27799 sentences\n",
      "2022-05-31 19:11:24,585 : INFO : Creating a fresh vocabulary\n",
      "2022-05-31 19:11:25,323 : INFO : Word2Vec lifecycle event {'msg': 'effective_min_count=1 retains 83622 unique words (100.00% of original 83622, drops 0)', 'datetime': '2022-05-31T19:11:25.323162', 'gensim': '4.2.0', 'python': '3.9.7 (default, Sep 16 2021, 16:59:28) [MSC v.1916 64 bit (AMD64)]', 'platform': 'Windows-10-10.0.19044-SP0', 'event': 'prepare_vocab'}\n",
      "2022-05-31 19:11:25,323 : INFO : Word2Vec lifecycle event {'msg': 'effective_min_count=1 leaves 281473 word corpus (100.00% of original 281473, drops 0)', 'datetime': '2022-05-31T19:11:25.323162', 'gensim': '4.2.0', 'python': '3.9.7 (default, Sep 16 2021, 16:59:28) [MSC v.1916 64 bit (AMD64)]', 'platform': 'Windows-10-10.0.19044-SP0', 'event': 'prepare_vocab'}\n",
      "2022-05-31 19:11:26,649 : INFO : deleting the raw counts dictionary of 83622 items\n",
      "2022-05-31 19:11:26,657 : INFO : sample=0.001 downsamples 0 most-common words\n",
      "2022-05-31 19:11:26,657 : INFO : Word2Vec lifecycle event {'msg': 'downsampling leaves estimated 281473 word corpus (100.0%% of prior 281473)', 'datetime': '2022-05-31T19:11:26.657623', 'gensim': '4.2.0', 'python': '3.9.7 (default, Sep 16 2021, 16:59:28) [MSC v.1916 64 bit (AMD64)]', 'platform': 'Windows-10-10.0.19044-SP0', 'event': 'prepare_vocab'}\n",
      "2022-05-31 19:11:29,091 : INFO : estimated required memory for 83622 words and 10 dimensions: 48500760 bytes\n",
      "2022-05-31 19:11:29,099 : INFO : resetting layer weights\n",
      "2022-05-31 19:11:29,107 : INFO : Word2Vec lifecycle event {'update': False, 'trim_rule': 'None', 'datetime': '2022-05-31T19:11:29.107281', 'gensim': '4.2.0', 'python': '3.9.7 (default, Sep 16 2021, 16:59:28) [MSC v.1916 64 bit (AMD64)]', 'platform': 'Windows-10-10.0.19044-SP0', 'event': 'build_vocab'}\n",
      "2022-05-31 19:11:29,115 : INFO : Word2Vec lifecycle event {'msg': 'training model with 4 workers on 83622 vocabulary and 10 features, using sg=0 hs=0 sample=0.001 negative=5 window=5 shrink_windows=True', 'datetime': '2022-05-31T19:11:29.115281', 'gensim': '4.2.0', 'python': '3.9.7 (default, Sep 16 2021, 16:59:28) [MSC v.1916 64 bit (AMD64)]', 'platform': 'Windows-10-10.0.19044-SP0', 'event': 'train'}\n",
      "2022-05-31 19:11:29,723 : INFO : EPOCH 0: training on 281473 raw words (281473 effective words) took 0.6s, 489486 effective words/s\n",
      "2022-05-31 19:11:30,299 : INFO : EPOCH 1: training on 281473 raw words (281473 effective words) took 0.6s, 499577 effective words/s\n",
      "2022-05-31 19:11:30,875 : INFO : EPOCH 2: training on 281473 raw words (281473 effective words) took 0.5s, 559000 effective words/s\n",
      "2022-05-31 19:11:31,491 : INFO : EPOCH 3: training on 281473 raw words (281473 effective words) took 0.6s, 467892 effective words/s\n",
      "2022-05-31 19:11:32,110 : INFO : EPOCH 4: training on 281473 raw words (281473 effective words) took 0.5s, 520004 effective words/s\n",
      "2022-05-31 19:11:32,110 : INFO : Word2Vec lifecycle event {'msg': 'training on 1407365 raw words (1407365 effective words) took 3.0s, 469755 effective words/s', 'datetime': '2022-05-31T19:11:32.110776', 'gensim': '4.2.0', 'python': '3.9.7 (default, Sep 16 2021, 16:59:28) [MSC v.1916 64 bit (AMD64)]', 'platform': 'Windows-10-10.0.19044-SP0', 'event': 'train'}\n",
      "2022-05-31 19:11:32,110 : INFO : Word2Vec lifecycle event {'params': 'Word2Vec<vocab=83622, vector_size=10, alpha=0.025>', 'datetime': '2022-05-31T19:11:32.110776', 'gensim': '4.2.0', 'python': '3.9.7 (default, Sep 16 2021, 16:59:28) [MSC v.1916 64 bit (AMD64)]', 'platform': 'Windows-10-10.0.19044-SP0', 'event': 'created'}\n",
      "2022-05-31 19:11:32,110 : INFO : Word2Vec lifecycle event {'fname_or_handle': 'word2vec.model', 'separately': 'None', 'sep_limit': 10485760, 'ignore': frozenset(), 'datetime': '2022-05-31T19:11:32.110776', 'gensim': '4.2.0', 'python': '3.9.7 (default, Sep 16 2021, 16:59:28) [MSC v.1916 64 bit (AMD64)]', 'platform': 'Windows-10-10.0.19044-SP0', 'event': 'saving'}\n",
      "2022-05-31 19:11:32,110 : INFO : not storing attribute cum_table\n",
      "2022-05-31 19:11:32,221 : INFO : saved word2vec.model\n",
      "2022-05-31 19:11:32,221 : INFO : loading Word2Vec object from word2vec.model\n",
      "2022-05-31 19:11:32,293 : INFO : loading wv recursively from word2vec.model.wv.* with mmap=None\n",
      "2022-05-31 19:11:32,293 : INFO : setting ignored attribute cum_table to None\n",
      "2022-05-31 19:11:34,766 : INFO : Word2Vec lifecycle event {'fname': 'word2vec.model', 'datetime': '2022-05-31T19:11:34.766502', 'gensim': '4.2.0', 'python': '3.9.7 (default, Sep 16 2021, 16:59:28) [MSC v.1916 64 bit (AMD64)]', 'platform': 'Windows-10-10.0.19044-SP0', 'event': 'loaded'}\n"
     ]
    },
    {
     "data": {
      "text/html": [
       "<div>\n",
       "<style scoped>\n",
       "    .dataframe tbody tr th:only-of-type {\n",
       "        vertical-align: middle;\n",
       "    }\n",
       "\n",
       "    .dataframe tbody tr th {\n",
       "        vertical-align: top;\n",
       "    }\n",
       "\n",
       "    .dataframe thead th {\n",
       "        text-align: right;\n",
       "    }\n",
       "</style>\n",
       "<table border=\"1\" class=\"dataframe\">\n",
       "  <thead>\n",
       "    <tr style=\"text-align: right;\">\n",
       "      <th></th>\n",
       "      <th>Product_ID</th>\n",
       "      <th>Vectors</th>\n",
       "    </tr>\n",
       "  </thead>\n",
       "  <tbody>\n",
       "    <tr>\n",
       "      <th>0</th>\n",
       "      <td>752126531</td>\n",
       "      <td>[1.624464750289917, 1.3790475130081177, 1.3876...</td>\n",
       "    </tr>\n",
       "    <tr>\n",
       "      <th>1</th>\n",
       "      <td>a521829648</td>\n",
       "      <td>[1.7610704898834229, 0.14323587715625763, 3.24...</td>\n",
       "    </tr>\n",
       "    <tr>\n",
       "      <th>2</th>\n",
       "      <td>521829326</td>\n",
       "      <td>[1.7494603395462036, 0.7915015816688538, 2.750...</td>\n",
       "    </tr>\n",
       "    <tr>\n",
       "      <th>3</th>\n",
       "      <td>a575060958</td>\n",
       "      <td>[1.343972086906433, 0.010747549124062061, 3.66...</td>\n",
       "    </tr>\n",
       "    <tr>\n",
       "      <th>4</th>\n",
       "      <td>769876055</td>\n",
       "      <td>[1.4600592851638794, 1.3399051427841187, 1.167...</td>\n",
       "    </tr>\n",
       "    <tr>\n",
       "      <th>5</th>\n",
       "      <td>337340793</td>\n",
       "      <td>[-1.3558018207550049, 2.6467771530151367, 0.16...</td>\n",
       "    </tr>\n",
       "    <tr>\n",
       "      <th>6</th>\n",
       "      <td>652695598</td>\n",
       "      <td>[-0.4280877411365509, 0.2925820052623749, -0.0...</td>\n",
       "    </tr>\n",
       "    <tr>\n",
       "      <th>7</th>\n",
       "      <td>760139962</td>\n",
       "      <td>[0.715968906879425, 0.05183994397521019, 1.081...</td>\n",
       "    </tr>\n",
       "    <tr>\n",
       "      <th>8</th>\n",
       "      <td>a368901216</td>\n",
       "      <td>[1.22495436668396, 0.04060430824756622, 3.0699...</td>\n",
       "    </tr>\n",
       "    <tr>\n",
       "      <th>9</th>\n",
       "      <td>a75199886</td>\n",
       "      <td>[0.9372807741165161, -0.4885493516921997, 2.94...</td>\n",
       "    </tr>\n",
       "    <tr>\n",
       "      <th>10</th>\n",
       "      <td>a605330247</td>\n",
       "      <td>[1.026790738105774, -0.4853290915489197, 3.075...</td>\n",
       "    </tr>\n",
       "    <tr>\n",
       "      <th>11</th>\n",
       "      <td>a450843523</td>\n",
       "      <td>[0.7123332023620605, -0.628221869468689, 1.565...</td>\n",
       "    </tr>\n",
       "    <tr>\n",
       "      <th>12</th>\n",
       "      <td>575054460</td>\n",
       "      <td>[1.352442741394043, -0.05548067018389702, 3.23...</td>\n",
       "    </tr>\n",
       "    <tr>\n",
       "      <th>13</th>\n",
       "      <td>a759381252</td>\n",
       "      <td>[0.9239388704299927, -0.7337113618850708, 2.36...</td>\n",
       "    </tr>\n",
       "    <tr>\n",
       "      <th>14</th>\n",
       "      <td>242438430</td>\n",
       "      <td>[-0.09547300636768341, -0.36526450514793396, -...</td>\n",
       "    </tr>\n",
       "  </tbody>\n",
       "</table>\n",
       "</div>"
      ],
      "text/plain": [
       "    Product_ID                                            Vectors\n",
       "0    752126531  [1.624464750289917, 1.3790475130081177, 1.3876...\n",
       "1   a521829648  [1.7610704898834229, 0.14323587715625763, 3.24...\n",
       "2    521829326  [1.7494603395462036, 0.7915015816688538, 2.750...\n",
       "3   a575060958  [1.343972086906433, 0.010747549124062061, 3.66...\n",
       "4    769876055  [1.4600592851638794, 1.3399051427841187, 1.167...\n",
       "5    337340793  [-1.3558018207550049, 2.6467771530151367, 0.16...\n",
       "6    652695598  [-0.4280877411365509, 0.2925820052623749, -0.0...\n",
       "7    760139962  [0.715968906879425, 0.05183994397521019, 1.081...\n",
       "8   a368901216  [1.22495436668396, 0.04060430824756622, 3.0699...\n",
       "9    a75199886  [0.9372807741165161, -0.4885493516921997, 2.94...\n",
       "10  a605330247  [1.026790738105774, -0.4853290915489197, 3.075...\n",
       "11  a450843523  [0.7123332023620605, -0.628221869468689, 1.565...\n",
       "12   575054460  [1.352442741394043, -0.05548067018389702, 3.23...\n",
       "13  a759381252  [0.9239388704299927, -0.7337113618850708, 2.36...\n",
       "14   242438430  [-0.09547300636768341, -0.36526450514793396, -..."
      ]
     },
     "execution_count": 90,
     "metadata": {},
     "output_type": "execute_result"
    }
   ],
   "source": [
    "product_ids_and_vectors = create_product_embeddings()\n",
    "product_ids_and_vectors.head(15)"
   ]
  },
  {
   "cell_type": "code",
   "execution_count": null,
   "id": "273e9908-3dbb-44f1-a2b3-2aede6f5c491",
   "metadata": {},
   "outputs": [],
   "source": []
  },
  {
   "cell_type": "code",
   "execution_count": 91,
   "id": "0e750638-2e94-4812-af4a-8b1847b9b6fd",
   "metadata": {},
   "outputs": [],
   "source": [
    "def fit_kmeans():\n",
    "  from sklearn.cluster import KMeans\n",
    "  import numpy as np\n",
    "  import matplotlib.pyplot as plt\n",
    "  \n",
    "  # Get product vectors from Word2Vec\n",
    "  array_product_vectors = np.array(product_ids_and_vectors[\"Vectors\"].values.tolist())\n",
    "\n",
    "  # Fit K-Means algorithm on those embeddings\n",
    "  kmeans_model = KMeans(n_clusters=10, random_state=0).fit(array_product_vectors)\n",
    "\n",
    "  # Cluster Distribution Plot\n",
    "  plot_cluster_distribution(kmeans_model)\n",
    "\n",
    "  # Cluster Scatter Plot\n",
    "  plot_cluster_scatter(array_product_vectors)\n",
    "  \n",
    "  return kmeans_model\n",
    "\n",
    "def plot_cluster_distribution(kmeans_model):\n",
    "  import matplotlib.pyplot as plt\n",
    "\n",
    "  plt.hist(kmeans_model.labels_, rwidth=0.7)\n",
    "  plt.ylabel(\"Number of Products\")\n",
    "  plt.xlabel(\"Cluster No\")\n",
    "\n",
    "  plt.show()\n",
    "\n",
    "  # clear all plots and figures from memory\n",
    "  plt.figure().clear()\n",
    "  plt.close()\n",
    "  plt.cla()\n",
    "  plt.clf()"
   ]
  },
  {
   "cell_type": "code",
   "execution_count": 92,
   "id": "00efd600-7b14-4697-824a-75395ddeb9e7",
   "metadata": {},
   "outputs": [],
   "source": [
    "def plot_cluster_scatter(product_vectors):\n",
    "  import matplotlib.pyplot as plt\n",
    "  from sklearn.decomposition import PCA\n",
    "  from sklearn.cluster import KMeans\n",
    "  import numpy as np\n",
    "\n",
    "  pca = PCA(n_components=2)\n",
    "  two_dimensions_vectors = pca.fit_transform(product_vectors)\n",
    "  \n",
    "  kmeans_model = KMeans(n_clusters=10, random_state=0).fit(two_dimensions_vectors)\n",
    "  label = kmeans_model.fit_predict(two_dimensions_vectors)\n",
    "\n",
    "  #Getting the Centroids\n",
    "  centroids = kmeans_model.cluster_centers_\n",
    "  u_labels = np.unique(kmeans_model.labels_)\n",
    "  \n",
    "  #plotting the results:\n",
    "  for i in u_labels:\n",
    "      plt.scatter(two_dimensions_vectors[label == i , 0] , two_dimensions_vectors[label == i , 1] , label = i)\n",
    "  plt.scatter(centroids[:,0] , centroids[:,1] , s = 80, color = 'k')\n",
    "  plt.legend(bbox_to_anchor =(1, 1))\n",
    "  \n",
    "  plt.show()\n",
    "\n",
    "  # clear all plots and figures from memory\n",
    "  plt.figure().clear()\n",
    "  plt.close()\n",
    "  plt.cla()\n",
    "  plt.clf()"
   ]
  },
  {
   "cell_type": "code",
   "execution_count": 93,
   "id": "a3a8437a-0a0f-4a30-aa9f-8039ba68dafa",
   "metadata": {},
   "outputs": [
    {
     "data": {
      "image/png": "[encoded data removed]",
      "text/plain": [
       "<Figure size 432x288 with 1 Axes>"
      ]
     },
     "metadata": {
      "needs_background": "light"
     },
     "output_type": "display_data"
    },
    {
     "data": {
      "image/png": "[encoded data removed]",
      "text/plain": [
       "<Figure size 432x288 with 1 Axes>"
      ]
     },
     "metadata": {
      "needs_background": "light"
     },
     "output_type": "display_data"
    },
    {
     "data": {
      "text/plain": [
       "<Figure size 432x288 with 0 Axes>"
      ]
     },
     "metadata": {},
     "output_type": "display_data"
    }
   ],
   "source": [
    "model = fit_kmeans()\n"
   ]
  },
  {
   "cell_type": "code",
   "execution_count": 57,
   "id": "b60f8f5b-4405-4ce1-a7c3-e9ed807dbe60",
   "metadata": {},
   "outputs": [],
   "source": [
    "def save_final_product_clusters():\n",
    "  import numpy as np  \n",
    "  array_product_vectors = np.array(product_ids_and_vectors[\"Vectors\"].values.tolist())\n",
    "\n",
    "  assigned_cluster_no = model.fit_predict(array_product_vectors).tolist()\n",
    "\n",
    "  product_ids_and_vectors[\"Cluster_No\"] = assigned_cluster_no\n",
    "  cluster_members_df = product_ids_and_vectors[[\"Product_ID\",\"Cluster_No\"]].groupby(\"Cluster_No\")['Product_ID'].apply(list).to_frame().reset_index().rename(columns={'Product_ID': 'Cluster_Member_List'})\n",
    "\n",
    "  return cluster_members_df"
   ]
  },
  {
   "cell_type": "code",
   "execution_count": 94,
   "id": "eaca6569-a916-4f2e-a971-9558d86eb531",
   "metadata": {},
   "outputs": [
    {
     "data": {
      "text/html": [
       "<div>\n",
       "<style scoped>\n",
       "    .dataframe tbody tr th:only-of-type {\n",
       "        vertical-align: middle;\n",
       "    }\n",
       "\n",
       "    .dataframe tbody tr th {\n",
       "        vertical-align: top;\n",
       "    }\n",
       "\n",
       "    .dataframe thead th {\n",
       "        text-align: right;\n",
       "    }\n",
       "</style>\n",
       "<table border=\"1\" class=\"dataframe\">\n",
       "  <thead>\n",
       "    <tr style=\"text-align: right;\">\n",
       "      <th></th>\n",
       "      <th>Cluster_No</th>\n",
       "      <th>Cluster_Member_List</th>\n",
       "    </tr>\n",
       "  </thead>\n",
       "  <tbody>\n",
       "    <tr>\n",
       "      <th>0</th>\n",
       "      <td>0</td>\n",
       "      <td>[652695598, 242438430, 222487230, 48592580, 72...</td>\n",
       "    </tr>\n",
       "    <tr>\n",
       "      <th>1</th>\n",
       "      <td>1</td>\n",
       "      <td>[511382944, 380040945, 62932867, 652976667, 60...</td>\n",
       "    </tr>\n",
       "    <tr>\n",
       "      <th>2</th>\n",
       "      <td>2</td>\n",
       "      <td>[337326665, a652976204, 375324813, a49450342, ...</td>\n",
       "    </tr>\n",
       "    <tr>\n",
       "      <th>3</th>\n",
       "      <td>3</td>\n",
       "      <td>[337340793, 505646701, 760144855, 764951912, 7...</td>\n",
       "    </tr>\n",
       "    <tr>\n",
       "      <th>4</th>\n",
       "      <td>4</td>\n",
       "      <td>[60486308, 107003654, 95486912, 36367570, 8547...</td>\n",
       "    </tr>\n",
       "    <tr>\n",
       "      <th>5</th>\n",
       "      <td>5</td>\n",
       "      <td>[752126531, a521829648, 521829326, a575060958,...</td>\n",
       "    </tr>\n",
       "    <tr>\n",
       "      <th>6</th>\n",
       "      <td>6</td>\n",
       "      <td>[699866893, 598552791, 687352899, 620517387, 5...</td>\n",
       "    </tr>\n",
       "    <tr>\n",
       "      <th>7</th>\n",
       "      <td>7</td>\n",
       "      <td>[491730857, 699079214, 103709707, 652681942, 5...</td>\n",
       "    </tr>\n",
       "    <tr>\n",
       "      <th>8</th>\n",
       "      <td>8</td>\n",
       "      <td>[292821487, 113666925, 376670910, 14581972, 31...</td>\n",
       "    </tr>\n",
       "    <tr>\n",
       "      <th>9</th>\n",
       "      <td>9</td>\n",
       "      <td>[671240035, 791752085, 662375153, 441312256, 1...</td>\n",
       "    </tr>\n",
       "  </tbody>\n",
       "</table>\n",
       "</div>"
      ],
      "text/plain": [
       "   Cluster_No                                Cluster_Member_List\n",
       "0           0  [652695598, 242438430, 222487230, 48592580, 72...\n",
       "1           1  [511382944, 380040945, 62932867, 652976667, 60...\n",
       "2           2  [337326665, a652976204, 375324813, a49450342, ...\n",
       "3           3  [337340793, 505646701, 760144855, 764951912, 7...\n",
       "4           4  [60486308, 107003654, 95486912, 36367570, 8547...\n",
       "5           5  [752126531, a521829648, 521829326, a575060958,...\n",
       "6           6  [699866893, 598552791, 687352899, 620517387, 5...\n",
       "7           7  [491730857, 699079214, 103709707, 652681942, 5...\n",
       "8           8  [292821487, 113666925, 376670910, 14581972, 31...\n",
       "9           9  [671240035, 791752085, 662375153, 441312256, 1..."
      ]
     },
     "execution_count": 94,
     "metadata": {},
     "output_type": "execute_result"
    }
   ],
   "source": [
    "cluster_members_df = save_final_product_clusters()\n",
    "cluster_members_df.head(10)"
   ]
  },
  {
   "cell_type": "code",
   "execution_count": 95,
   "id": "762c3c2b-1f89-46a5-bf24-112f4e447d6c",
   "metadata": {},
   "outputs": [
    {
     "name": "stdout",
     "output_type": "stream",
     "text": [
      "15 Similar Product Recommendations for 63594:  ['475963030', '327882229', '507828191', '33664794', '442308065', '238599310', '112823176', '78969235', '647320449', '103847007', '434520790', '212213049', '10825210', '135499325', '67216']\n"
     ]
    }
   ],
   "source": [
    "import numpy as np\n",
    "# Product ID to generate recommendations for - You could try different product IDs in the data such as A16, C17, P12 etc.\n",
    "product_id = \"63594\"\n",
    "\n",
    "# Get Vector (Embedding) array of the given product\n",
    "vector_array = np.array(product_ids_and_vectors[product_ids_and_vectors[\"Product_ID\"]==product_id][\"Vectors\"].tolist())\n",
    "\n",
    "# Get cluster number for the given product assigned by the model\n",
    "cluster_no = model.predict(vector_array)[0]\n",
    "\n",
    "\n",
    "# Get members list of the cluster that the given product is assigned to \n",
    "cluster_members_list = cluster_members_df[cluster_members_df['Cluster_No']==cluster_no]['Cluster_Member_List'].iloc[0]\n",
    "\n",
    "# Randomly select 5 product recommendations from the cluster members excluding the given product\n",
    "from random import sample\n",
    "#cluster_members_list.remove(product_id)\n",
    "five_product_recommendations = sample(cluster_members_list, 15)\n",
    "\n",
    "print(\"15 Similar Product Recommendations for {}: \".format(product_id),five_product_recommendations)\n",
    "#print(\"15 Similar Product Recommendations for {}: \".format(product_id),cluster_members_list.model)"
   ]
  },
  {
   "cell_type": "markdown",
   "id": "4525f390-a3ba-4294-aba9-baab6d5ad41f",
   "metadata": {},
   "source": [
    "## Similar Score"
   ]
  },
  {
   "cell_type": "code",
   "execution_count": 97,
   "id": "c09b56c9-28da-49b8-9a7b-78f46823b454",
   "metadata": {},
   "outputs": [],
   "source": [
    "#hide\n",
    "import pandas as pd\n",
    "import numpy as np\n",
    "import random\n",
    "from tqdm import tqdm\n",
    "from gensim.models import Word2Vec \n",
    "import matplotlib.pyplot as plt\n",
    "%matplotlib inline\n",
    "\n",
    "import warnings;\n",
    "warnings.filterwarnings('ignore')"
   ]
  },
  {
   "cell_type": "markdown",
   "id": "533c8d48-9432-47a0-8965-34cc1e20edfc",
   "metadata": {},
   "source": [
    "#### Data Preparation\n",
    "Let’s convert the StockCode to string datatype:"
   ]
  },
  {
   "cell_type": "code",
   "execution_count": 98,
   "id": "e57b4635-e936-46d8-9c5f-f84de1bd1248",
   "metadata": {},
   "outputs": [
    {
     "data": {
      "text/html": [
       "<div>\n",
       "<style scoped>\n",
       "    .dataframe tbody tr th:only-of-type {\n",
       "        vertical-align: middle;\n",
       "    }\n",
       "\n",
       "    .dataframe tbody tr th {\n",
       "        vertical-align: top;\n",
       "    }\n",
       "\n",
       "    .dataframe thead th {\n",
       "        text-align: right;\n",
       "    }\n",
       "</style>\n",
       "<table border=\"1\" class=\"dataframe\">\n",
       "  <thead>\n",
       "    <tr style=\"text-align: right;\">\n",
       "      <th></th>\n",
       "      <th>Unnamed: 0</th>\n",
       "      <th>client</th>\n",
       "      <th>timestamp</th>\n",
       "      <th>product_id</th>\n",
       "    </tr>\n",
       "  </thead>\n",
       "  <tbody>\n",
       "    <tr>\n",
       "      <th>0</th>\n",
       "      <td>208</td>\n",
       "      <td>85ab8f53-b934-49dd-8d54-479ed08499f6</td>\n",
       "      <td>2021-08-29 17:05:45.368000+00:00</td>\n",
       "      <td>63594</td>\n",
       "    </tr>\n",
       "    <tr>\n",
       "      <th>1</th>\n",
       "      <td>209</td>\n",
       "      <td>85ab8f53-b934-49dd-8d54-479ed08499f6</td>\n",
       "      <td>2021-08-29 17:07:02.711000+00:00</td>\n",
       "      <td>63290</td>\n",
       "    </tr>\n",
       "    <tr>\n",
       "      <th>2</th>\n",
       "      <td>210</td>\n",
       "      <td>85ab8f53-b934-49dd-8d54-479ed08499f6</td>\n",
       "      <td>2021-08-29 17:08:51.306000+00:00</td>\n",
       "      <td>64872</td>\n",
       "    </tr>\n",
       "    <tr>\n",
       "      <th>3</th>\n",
       "      <td>247</td>\n",
       "      <td>46989f50-87f9-4ece-9db3-cffaa3bf2278</td>\n",
       "      <td>2021-08-29 19:23:07.176000+00:00</td>\n",
       "      <td>63593</td>\n",
       "    </tr>\n",
       "    <tr>\n",
       "      <th>4</th>\n",
       "      <td>1665</td>\n",
       "      <td>dbbcd1c1-c0ca-4eed-b144-736fc40f6d24</td>\n",
       "      <td>2021-08-29 20:00:40.706000+00:00</td>\n",
       "      <td>56093</td>\n",
       "    </tr>\n",
       "  </tbody>\n",
       "</table>\n",
       "</div>"
      ],
      "text/plain": [
       "   Unnamed: 0                                client  \\\n",
       "0         208  85ab8f53-b934-49dd-8d54-479ed08499f6   \n",
       "1         209  85ab8f53-b934-49dd-8d54-479ed08499f6   \n",
       "2         210  85ab8f53-b934-49dd-8d54-479ed08499f6   \n",
       "3         247  46989f50-87f9-4ece-9db3-cffaa3bf2278   \n",
       "4        1665  dbbcd1c1-c0ca-4eed-b144-736fc40f6d24   \n",
       "\n",
       "                          timestamp product_id  \n",
       "0  2021-08-29 17:05:45.368000+00:00      63594  \n",
       "1  2021-08-29 17:07:02.711000+00:00      63290  \n",
       "2  2021-08-29 17:08:51.306000+00:00      64872  \n",
       "3  2021-08-29 19:23:07.176000+00:00      63593  \n",
       "4  2021-08-29 20:00:40.706000+00:00      56093  "
      ]
     },
     "execution_count": 98,
     "metadata": {},
     "output_type": "execute_result"
    }
   ],
   "source": [
    "df = pd.read_csv(\"products.csv\")\n",
    "df.head()"
   ]
  },
  {
   "cell_type": "code",
   "execution_count": 99,
   "id": "87137548-6d18-46a7-90c3-035be244f7e7",
   "metadata": {},
   "outputs": [],
   "source": [
    "df['product_id']= df['product_id'].astype(str)"
   ]
  },
  {
   "cell_type": "code",
   "execution_count": 100,
   "id": "8a5e0e0c-6761-4ce6-9ca7-0b8f684c3e89",
   "metadata": {},
   "outputs": [
    {
     "data": {
      "text/plain": [
       "27799"
      ]
     },
     "execution_count": 100,
     "metadata": {},
     "output_type": "execute_result"
    }
   ],
   "source": [
    "# Check out the number of unique customers in our dataset\n",
    "clients = df[\"client\"].unique().tolist()\n",
    "len(clients)"
   ]
  },
  {
   "cell_type": "markdown",
   "id": "3f9be107-4af8-49b7-91de-90e423cd1351",
   "metadata": {},
   "source": [
    " There are 27799 customers in our dataset.\n",
    "For each of these customers, we will extract their buying history. In other words, we can have 27799 sequences of purchases."
   ]
  },
  {
   "cell_type": "markdown",
   "id": "b30fbfc4-0acd-49da-ba66-19d883f9baa0",
   "metadata": {},
   "source": [
    "#####  Small part of the dataset for validation purposes. Therefore, I will use the data of 90% of the customers to create word2vec embeddings. Let’s split the data."
   ]
  },
  {
   "cell_type": "code",
   "execution_count": 101,
   "id": "58799487-c5af-4311-b60a-78ffbbcd1331",
   "metadata": {},
   "outputs": [],
   "source": [
    "# shuffle customer ID's\n",
    "random.shuffle(clients)\n",
    "\n",
    "# extract 90% of customer ID's\n",
    "client_train = [clients[i] for i in range(round(0.8*len(clients)))]\n",
    "\n",
    "# split data into train and validation set\n",
    "train_df = df[df['client'].isin(client_train)]\n",
    "validation_df = df[~df['client'].isin(client_train)]"
   ]
  },
  {
   "cell_type": "markdown",
   "id": "3670e70f-e216-456e-8f62-8bcd61fcf9f5",
   "metadata": {},
   "source": [
    "We will create sequences of purchases made by the customers in the dataset for both the train and validation set."
   ]
  },
  {
   "cell_type": "code",
   "execution_count": 102,
   "id": "c69d1303-6fde-4a59-9f35-367b21dbf06f",
   "metadata": {},
   "outputs": [
    {
     "name": "stderr",
     "output_type": "stream",
     "text": [
      "100%|██████████| 22239/22239 [13:50<00:00, 26.79it/s]\n"
     ]
    }
   ],
   "source": [
    "# list to capture purchase history of the customers\n",
    "purchases_train = []\n",
    "\n",
    "# populate the list with the product codes\n",
    "for i in tqdm(client_train):\n",
    "    temp = train_df[train_df[\"client\"] == i][\"product_id\"].tolist()\n",
    "    purchases_train.append(temp)"
   ]
  },
  {
   "cell_type": "code",
   "execution_count": 103,
   "id": "a0e22237-786a-425d-a330-29492f9e122e",
   "metadata": {},
   "outputs": [
    {
     "name": "stderr",
     "output_type": "stream",
     "text": [
      "100%|██████████| 5560/5560 [01:06<00:00, 83.37it/s] \n"
     ]
    }
   ],
   "source": [
    "# list to capture purchase history of the customers\n",
    "purchases_val = []\n",
    "\n",
    "# populate the list with the product codes\n",
    "for i in tqdm(validation_df['client'].unique()):\n",
    "    temp = validation_df[validation_df[\"client\"] == i][\"product_id\"].tolist()\n",
    "    purchases_val.append(temp)"
   ]
  },
  {
   "cell_type": "markdown",
   "id": "704f7cd4-1e32-41ec-bd0c-960cd5b24f2a",
   "metadata": {},
   "source": [
    "### Build word2vec Embeddings for Products"
   ]
  },
  {
   "cell_type": "code",
   "execution_count": 106,
   "id": "6a4113a8-5b49-4d8d-b032-70252edc634a",
   "metadata": {
    "collapsed": true,
    "jupyter": {
     "outputs_hidden": true
    },
    "tags": []
   },
   "outputs": [
    {
     "name": "stderr",
     "output_type": "stream",
     "text": [
      "2022-05-31 19:46:20,675 : INFO : Word2Vec lifecycle event {'params': 'Word2Vec<vocab=0, vector_size=100, alpha=0.03>', 'datetime': '2022-05-31T19:46:20.675566', 'gensim': '4.2.0', 'python': '3.9.7 (default, Sep 16 2021, 16:59:28) [MSC v.1916 64 bit (AMD64)]', 'platform': 'Windows-10-10.0.19044-SP0', 'event': 'created'}\n",
      "2022-05-31 19:46:20,675 : INFO : collecting all words and their counts\n",
      "2022-05-31 19:46:20,675 : INFO : PROGRESS: at sentence #0, processed 0 words, keeping 0 word types\n",
      "2022-05-31 19:46:20,683 : INFO : PROGRESS: at sentence #200, processed 2325 words, keeping 1553 word types\n",
      "2022-05-31 19:46:20,683 : INFO : PROGRESS: at sentence #400, processed 4659 words, keeping 2868 word types\n",
      "2022-05-31 19:46:20,683 : INFO : PROGRESS: at sentence #600, processed 6957 words, keeping 4114 word types\n",
      "2022-05-31 19:46:20,683 : INFO : PROGRESS: at sentence #800, processed 9339 words, keeping 5321 word types\n",
      "2022-05-31 19:46:20,691 : INFO : PROGRESS: at sentence #1000, processed 11656 words, keeping 6465 word types\n",
      "2022-05-31 19:46:20,691 : INFO : PROGRESS: at sentence #1200, processed 13973 words, keeping 7580 word types\n",
      "2022-05-31 19:46:20,691 : INFO : PROGRESS: at sentence #1400, processed 16313 words, keeping 8694 word types\n",
      "2022-05-31 19:46:20,699 : INFO : PROGRESS: at sentence #1600, processed 18637 words, keeping 9628 word types\n",
      "2022-05-31 19:46:20,699 : INFO : PROGRESS: at sentence #1800, processed 20976 words, keeping 10626 word types\n",
      "2022-05-31 19:46:20,699 : INFO : PROGRESS: at sentence #2000, processed 23269 words, keeping 11535 word types\n",
      "2022-05-31 19:46:20,707 : INFO : PROGRESS: at sentence #2200, processed 25590 words, keeping 12523 word types\n",
      "2022-05-31 19:46:20,707 : INFO : PROGRESS: at sentence #2400, processed 27903 words, keeping 13413 word types\n",
      "2022-05-31 19:46:20,707 : INFO : PROGRESS: at sentence #2600, processed 30230 words, keeping 14361 word types\n",
      "2022-05-31 19:46:20,715 : INFO : PROGRESS: at sentence #2800, processed 32568 words, keeping 15162 word types\n",
      "2022-05-31 19:46:20,715 : INFO : PROGRESS: at sentence #3000, processed 34873 words, keeping 16081 word types\n",
      "2022-05-31 19:46:20,721 : INFO : PROGRESS: at sentence #3200, processed 37224 words, keeping 16875 word types\n",
      "2022-05-31 19:46:20,722 : INFO : PROGRESS: at sentence #3400, processed 39538 words, keeping 17659 word types\n",
      "2022-05-31 19:46:20,722 : INFO : PROGRESS: at sentence #3600, processed 41841 words, keeping 18501 word types\n",
      "2022-05-31 19:46:20,730 : INFO : PROGRESS: at sentence #3800, processed 44143 words, keeping 19297 word types\n",
      "2022-05-31 19:46:20,730 : INFO : PROGRESS: at sentence #4000, processed 46479 words, keeping 20060 word types\n",
      "2022-05-31 19:46:20,730 : INFO : PROGRESS: at sentence #4200, processed 48819 words, keeping 20854 word types\n",
      "2022-05-31 19:46:20,738 : INFO : PROGRESS: at sentence #4400, processed 51188 words, keeping 21608 word types\n",
      "2022-05-31 19:46:20,738 : INFO : PROGRESS: at sentence #4600, processed 53516 words, keeping 22379 word types\n",
      "2022-05-31 19:46:20,746 : INFO : PROGRESS: at sentence #4800, processed 55887 words, keeping 23207 word types\n",
      "2022-05-31 19:46:20,746 : INFO : PROGRESS: at sentence #5000, processed 58214 words, keeping 23998 word types\n",
      "2022-05-31 19:46:20,754 : INFO : PROGRESS: at sentence #5200, processed 60568 words, keeping 24623 word types\n",
      "2022-05-31 19:46:20,754 : INFO : PROGRESS: at sentence #5400, processed 62900 words, keeping 25310 word types\n",
      "2022-05-31 19:46:20,754 : INFO : PROGRESS: at sentence #5600, processed 65178 words, keeping 26089 word types\n",
      "2022-05-31 19:46:20,762 : INFO : PROGRESS: at sentence #5800, processed 67490 words, keeping 26770 word types\n",
      "2022-05-31 19:46:20,762 : INFO : PROGRESS: at sentence #6000, processed 69828 words, keeping 27493 word types\n",
      "2022-05-31 19:46:20,762 : INFO : PROGRESS: at sentence #6200, processed 72148 words, keeping 28257 word types\n",
      "2022-05-31 19:46:20,770 : INFO : PROGRESS: at sentence #6400, processed 74498 words, keeping 28916 word types\n",
      "2022-05-31 19:46:20,770 : INFO : PROGRESS: at sentence #6600, processed 76840 words, keeping 29576 word types\n",
      "2022-05-31 19:46:20,778 : INFO : PROGRESS: at sentence #6800, processed 79215 words, keeping 30190 word types\n",
      "2022-05-31 19:46:20,786 : INFO : PROGRESS: at sentence #7000, processed 81510 words, keeping 30906 word types\n",
      "2022-05-31 19:46:20,786 : INFO : PROGRESS: at sentence #7200, processed 83848 words, keeping 31648 word types\n",
      "2022-05-31 19:46:20,786 : INFO : PROGRESS: at sentence #7400, processed 86188 words, keeping 32235 word types\n",
      "2022-05-31 19:46:20,794 : INFO : PROGRESS: at sentence #7600, processed 88538 words, keeping 32854 word types\n",
      "2022-05-31 19:46:20,794 : INFO : PROGRESS: at sentence #7800, processed 90874 words, keeping 33542 word types\n",
      "2022-05-31 19:46:20,794 : INFO : PROGRESS: at sentence #8000, processed 93218 words, keeping 34097 word types\n",
      "2022-05-31 19:46:20,802 : INFO : PROGRESS: at sentence #8200, processed 95563 words, keeping 34705 word types\n",
      "2022-05-31 19:46:20,802 : INFO : PROGRESS: at sentence #8400, processed 97885 words, keeping 35340 word types\n",
      "2022-05-31 19:46:20,810 : INFO : PROGRESS: at sentence #8600, processed 100194 words, keeping 36013 word types\n",
      "2022-05-31 19:46:20,810 : INFO : PROGRESS: at sentence #8800, processed 102535 words, keeping 36618 word types\n",
      "2022-05-31 19:46:20,818 : INFO : PROGRESS: at sentence #9000, processed 104894 words, keeping 37197 word types\n",
      "2022-05-31 19:46:20,818 : INFO : PROGRESS: at sentence #9200, processed 107240 words, keeping 37813 word types\n",
      "2022-05-31 19:46:20,818 : INFO : PROGRESS: at sentence #9400, processed 109574 words, keeping 38379 word types\n",
      "2022-05-31 19:46:20,826 : INFO : PROGRESS: at sentence #9600, processed 111855 words, keeping 39025 word types\n",
      "2022-05-31 19:46:20,826 : INFO : PROGRESS: at sentence #9800, processed 114220 words, keeping 39556 word types\n",
      "2022-05-31 19:46:20,826 : INFO : PROGRESS: at sentence #10000, processed 116547 words, keeping 40173 word types\n",
      "2022-05-31 19:46:20,834 : INFO : PROGRESS: at sentence #10200, processed 118888 words, keeping 40820 word types\n",
      "2022-05-31 19:46:20,842 : INFO : PROGRESS: at sentence #10400, processed 121198 words, keeping 41448 word types\n",
      "2022-05-31 19:46:20,842 : INFO : PROGRESS: at sentence #10600, processed 123548 words, keeping 42040 word types\n",
      "2022-05-31 19:46:20,842 : INFO : PROGRESS: at sentence #10800, processed 125859 words, keeping 42642 word types\n",
      "2022-05-31 19:46:20,850 : INFO : PROGRESS: at sentence #11000, processed 128123 words, keeping 43195 word types\n",
      "2022-05-31 19:46:20,850 : INFO : PROGRESS: at sentence #11200, processed 130442 words, keeping 43795 word types\n",
      "2022-05-31 19:46:20,858 : INFO : PROGRESS: at sentence #11400, processed 132770 words, keeping 44383 word types\n",
      "2022-05-31 19:46:20,858 : INFO : PROGRESS: at sentence #11600, processed 135064 words, keeping 44946 word types\n",
      "2022-05-31 19:46:20,866 : INFO : PROGRESS: at sentence #11800, processed 137349 words, keeping 45517 word types\n",
      "2022-05-31 19:46:20,866 : INFO : PROGRESS: at sentence #12000, processed 139729 words, keeping 46075 word types\n",
      "2022-05-31 19:46:20,874 : INFO : PROGRESS: at sentence #12200, processed 142063 words, keeping 46645 word types\n",
      "2022-05-31 19:46:20,874 : INFO : PROGRESS: at sentence #12400, processed 144373 words, keeping 47184 word types\n",
      "2022-05-31 19:46:20,874 : INFO : PROGRESS: at sentence #12600, processed 146710 words, keeping 47706 word types\n",
      "2022-05-31 19:46:20,882 : INFO : PROGRESS: at sentence #12800, processed 149055 words, keeping 48192 word types\n",
      "2022-05-31 19:46:20,882 : INFO : PROGRESS: at sentence #13000, processed 151379 words, keeping 48645 word types\n",
      "2022-05-31 19:46:20,890 : INFO : PROGRESS: at sentence #13200, processed 153667 words, keeping 49263 word types\n",
      "2022-05-31 19:46:20,890 : INFO : PROGRESS: at sentence #13400, processed 155986 words, keeping 49774 word types\n",
      "2022-05-31 19:46:20,898 : INFO : PROGRESS: at sentence #13600, processed 158316 words, keeping 50319 word types\n",
      "2022-05-31 19:46:20,898 : INFO : PROGRESS: at sentence #13800, processed 160650 words, keeping 50889 word types\n",
      "2022-05-31 19:46:20,906 : INFO : PROGRESS: at sentence #14000, processed 162995 words, keeping 51398 word types\n",
      "2022-05-31 19:46:20,906 : INFO : PROGRESS: at sentence #14200, processed 165348 words, keeping 51900 word types\n",
      "2022-05-31 19:46:20,914 : INFO : PROGRESS: at sentence #14400, processed 167650 words, keeping 52472 word types\n",
      "2022-05-31 19:46:20,914 : INFO : PROGRESS: at sentence #14600, processed 169980 words, keeping 52928 word types\n",
      "2022-05-31 19:46:20,914 : INFO : PROGRESS: at sentence #14800, processed 172294 words, keeping 53466 word types\n",
      "2022-05-31 19:46:20,922 : INFO : PROGRESS: at sentence #15000, processed 174647 words, keeping 53963 word types\n",
      "2022-05-31 19:46:20,922 : INFO : PROGRESS: at sentence #15200, processed 176962 words, keeping 54473 word types\n",
      "2022-05-31 19:46:20,930 : INFO : PROGRESS: at sentence #15400, processed 179258 words, keeping 54985 word types\n",
      "2022-05-31 19:46:20,930 : INFO : PROGRESS: at sentence #15600, processed 181558 words, keeping 55507 word types\n",
      "2022-05-31 19:46:20,942 : INFO : PROGRESS: at sentence #15800, processed 183871 words, keeping 55985 word types\n",
      "2022-05-31 19:46:20,942 : INFO : PROGRESS: at sentence #16000, processed 186227 words, keeping 56516 word types\n",
      "2022-05-31 19:46:20,950 : INFO : PROGRESS: at sentence #16200, processed 188540 words, keeping 56990 word types\n",
      "2022-05-31 19:46:20,950 : INFO : PROGRESS: at sentence #16400, processed 190892 words, keeping 57509 word types\n",
      "2022-05-31 19:46:20,958 : INFO : PROGRESS: at sentence #16600, processed 193246 words, keeping 58050 word types\n",
      "2022-05-31 19:46:20,958 : INFO : PROGRESS: at sentence #16800, processed 195570 words, keeping 58596 word types\n",
      "2022-05-31 19:46:20,966 : INFO : PROGRESS: at sentence #17000, processed 197876 words, keeping 59055 word types\n",
      "2022-05-31 19:46:20,966 : INFO : PROGRESS: at sentence #17200, processed 200222 words, keeping 59575 word types\n",
      "2022-05-31 19:46:20,966 : INFO : PROGRESS: at sentence #17400, processed 202570 words, keeping 60022 word types\n",
      "2022-05-31 19:46:20,974 : INFO : PROGRESS: at sentence #17600, processed 204894 words, keeping 60450 word types\n",
      "2022-05-31 19:46:20,974 : INFO : PROGRESS: at sentence #17800, processed 207213 words, keeping 60952 word types\n",
      "2022-05-31 19:46:20,982 : INFO : PROGRESS: at sentence #18000, processed 209548 words, keeping 61545 word types\n",
      "2022-05-31 19:46:20,982 : INFO : PROGRESS: at sentence #18200, processed 211879 words, keeping 62027 word types\n",
      "2022-05-31 19:46:20,990 : INFO : PROGRESS: at sentence #18400, processed 214193 words, keeping 62426 word types\n",
      "2022-05-31 19:46:20,990 : INFO : PROGRESS: at sentence #18600, processed 216542 words, keeping 63004 word types\n",
      "2022-05-31 19:46:20,990 : INFO : PROGRESS: at sentence #18800, processed 218847 words, keeping 63496 word types\n",
      "2022-05-31 19:46:20,998 : INFO : PROGRESS: at sentence #19000, processed 221146 words, keeping 63935 word types\n",
      "2022-05-31 19:46:20,998 : INFO : PROGRESS: at sentence #19200, processed 223459 words, keeping 64392 word types\n",
      "2022-05-31 19:46:21,006 : INFO : PROGRESS: at sentence #19400, processed 225793 words, keeping 64948 word types\n",
      "2022-05-31 19:46:21,006 : INFO : PROGRESS: at sentence #19600, processed 228109 words, keeping 65390 word types\n",
      "2022-05-31 19:46:21,006 : INFO : PROGRESS: at sentence #19800, processed 230455 words, keeping 65827 word types\n",
      "2022-05-31 19:46:21,014 : INFO : PROGRESS: at sentence #20000, processed 232762 words, keeping 66301 word types\n",
      "2022-05-31 19:46:21,038 : INFO : PROGRESS: at sentence #20200, processed 235109 words, keeping 66843 word types\n",
      "2022-05-31 19:46:21,038 : INFO : PROGRESS: at sentence #20400, processed 237457 words, keeping 67299 word types\n",
      "2022-05-31 19:46:21,046 : INFO : PROGRESS: at sentence #20600, processed 239805 words, keeping 67839 word types\n",
      "2022-05-31 19:46:21,050 : INFO : PROGRESS: at sentence #20800, processed 242134 words, keeping 68293 word types\n",
      "2022-05-31 19:46:21,058 : INFO : PROGRESS: at sentence #21000, processed 244484 words, keeping 68704 word types\n",
      "2022-05-31 19:46:21,058 : INFO : PROGRESS: at sentence #21200, processed 246811 words, keeping 69140 word types\n",
      "2022-05-31 19:46:21,066 : INFO : PROGRESS: at sentence #21400, processed 249124 words, keeping 69689 word types\n",
      "2022-05-31 19:46:21,066 : INFO : PROGRESS: at sentence #21600, processed 251458 words, keeping 70133 word types\n",
      "2022-05-31 19:46:21,074 : INFO : PROGRESS: at sentence #21800, processed 253770 words, keeping 70598 word types\n",
      "2022-05-31 19:46:21,074 : INFO : PROGRESS: at sentence #22000, processed 256101 words, keeping 71036 word types\n",
      "2022-05-31 19:46:21,074 : INFO : PROGRESS: at sentence #22200, processed 258444 words, keeping 71485 word types\n",
      "2022-05-31 19:46:21,082 : INFO : collected 71590 word types from a corpus of 258907 raw words and 22239 sentences\n",
      "2022-05-31 19:46:21,082 : INFO : Creating a fresh vocabulary\n",
      "2022-05-31 19:46:21,223 : INFO : Word2Vec lifecycle event {'msg': 'effective_min_count=5 retains 10067 unique words (14.06% of original 71590, drops 61523)', 'datetime': '2022-05-31T19:46:21.223552', 'gensim': '4.2.0', 'python': '3.9.7 (default, Sep 16 2021, 16:59:28) [MSC v.1916 64 bit (AMD64)]', 'platform': 'Windows-10-10.0.19044-SP0', 'event': 'prepare_vocab'}\n",
      "2022-05-31 19:46:21,223 : INFO : Word2Vec lifecycle event {'msg': 'effective_min_count=5 leaves 165081 word corpus (63.76% of original 258907, drops 93826)', 'datetime': '2022-05-31T19:46:21.223552', 'gensim': '4.2.0', 'python': '3.9.7 (default, Sep 16 2021, 16:59:28) [MSC v.1916 64 bit (AMD64)]', 'platform': 'Windows-10-10.0.19044-SP0', 'event': 'prepare_vocab'}\n",
      "2022-05-31 19:46:21,432 : INFO : deleting the raw counts dictionary of 71590 items\n",
      "2022-05-31 19:46:21,440 : INFO : sample=0.001 downsamples 3 most-common words\n",
      "2022-05-31 19:46:21,440 : INFO : Word2Vec lifecycle event {'msg': 'downsampling leaves estimated 165041.02776217012 word corpus (100.0%% of prior 165081)', 'datetime': '2022-05-31T19:46:21.440647', 'gensim': '4.2.0', 'python': '3.9.7 (default, Sep 16 2021, 16:59:28) [MSC v.1916 64 bit (AMD64)]', 'platform': 'Windows-10-10.0.19044-SP0', 'event': 'prepare_vocab'}\n",
      "2022-05-31 19:46:21,714 : INFO : estimated required memory for 10067 words and 100 dimensions: 13087100 bytes\n",
      "2022-05-31 19:46:21,714 : INFO : resetting layer weights\n",
      "2022-05-31 19:46:21,728 : INFO : Word2Vec lifecycle event {'update': False, 'trim_rule': 'None', 'datetime': '2022-05-31T19:46:21.728504', 'gensim': '4.2.0', 'python': '3.9.7 (default, Sep 16 2021, 16:59:28) [MSC v.1916 64 bit (AMD64)]', 'platform': 'Windows-10-10.0.19044-SP0', 'event': 'build_vocab'}\n",
      "2022-05-31 19:46:21,736 : INFO : Word2Vec lifecycle event {'msg': 'training model with 3 workers on 10067 vocabulary and 100 features, using sg=1 hs=0 sample=0.001 negative=10 window=10 shrink_windows=True', 'datetime': '2022-05-31T19:46:21.736503', 'gensim': '4.2.0', 'python': '3.9.7 (default, Sep 16 2021, 16:59:28) [MSC v.1916 64 bit (AMD64)]', 'platform': 'Windows-10-10.0.19044-SP0', 'event': 'train'}\n",
      "2022-05-31 19:46:22,762 : INFO : EPOCH 0 - PROGRESS: at 50.16% examples, 81371 words/s, in_qsize 5, out_qsize 0\n",
      "2022-05-31 19:46:23,629 : INFO : EPOCH 0: training on 258907 raw words (165040 effective words) took 1.9s, 87710 effective words/s\n",
      "2022-05-31 19:46:24,667 : INFO : EPOCH 1 - PROGRESS: at 46.27% examples, 74096 words/s, in_qsize 5, out_qsize 0\n",
      "2022-05-31 19:46:25,745 : INFO : EPOCH 1 - PROGRESS: at 84.94% examples, 66674 words/s, in_qsize 4, out_qsize 0\n",
      "2022-05-31 19:46:26,095 : INFO : EPOCH 1: training on 258907 raw words (165044 effective words) took 2.5s, 67232 effective words/s\n",
      "2022-05-31 19:46:27,134 : INFO : EPOCH 2 - PROGRESS: at 54.03% examples, 87307 words/s, in_qsize 5, out_qsize 0\n",
      "2022-05-31 19:46:27,857 : INFO : EPOCH 2: training on 258907 raw words (165034 effective words) took 1.8s, 94151 effective words/s\n",
      "2022-05-31 19:46:28,881 : INFO : EPOCH 3 - PROGRESS: at 54.03% examples, 88424 words/s, in_qsize 5, out_qsize 0\n",
      "2022-05-31 19:46:29,897 : INFO : EPOCH 3 - PROGRESS: at 100.00% examples, 81869 words/s, in_qsize 0, out_qsize 1\n",
      "2022-05-31 19:46:29,897 : INFO : EPOCH 3: training on 258907 raw words (165046 effective words) took 2.0s, 81747 effective words/s\n",
      "2022-05-31 19:46:31,047 : INFO : EPOCH 4 - PROGRESS: at 54.03% examples, 86289 words/s, in_qsize 5, out_qsize 0\n",
      "2022-05-31 19:46:31,898 : INFO : EPOCH 4: training on 258907 raw words (165038 effective words) took 1.9s, 87866 effective words/s\n",
      "2022-05-31 19:46:32,989 : INFO : EPOCH 5 - PROGRESS: at 46.27% examples, 74714 words/s, in_qsize 5, out_qsize 0\n",
      "2022-05-31 19:46:34,017 : INFO : EPOCH 5 - PROGRESS: at 92.31% examples, 74450 words/s, in_qsize 2, out_qsize 1\n",
      "2022-05-31 19:46:34,038 : INFO : EPOCH 5: training on 258907 raw words (165025 effective words) took 2.1s, 79768 effective words/s\n",
      "2022-05-31 19:46:35,205 : INFO : EPOCH 6 - PROGRESS: at 65.65% examples, 99971 words/s, in_qsize 5, out_qsize 0\n",
      "2022-05-31 19:46:35,668 : INFO : EPOCH 6: training on 258907 raw words (165055 effective words) took 1.5s, 106754 effective words/s\n",
      "2022-05-31 19:46:36,714 : INFO : EPOCH 7 - PROGRESS: at 61.77% examples, 98563 words/s, in_qsize 5, out_qsize 0\n",
      "2022-05-31 19:46:37,267 : INFO : EPOCH 7: training on 258907 raw words (165051 effective words) took 1.6s, 104153 effective words/s\n",
      "2022-05-31 19:46:38,341 : INFO : EPOCH 8 - PROGRESS: at 65.62% examples, 100838 words/s, in_qsize 5, out_qsize 0\n",
      "2022-05-31 19:46:38,828 : INFO : EPOCH 8: training on 258907 raw words (165041 effective words) took 1.6s, 105861 effective words/s\n",
      "2022-05-31 19:46:39,853 : INFO : EPOCH 9 - PROGRESS: at 61.77% examples, 99875 words/s, in_qsize 5, out_qsize 0\n",
      "2022-05-31 19:46:40,403 : INFO : EPOCH 9: training on 258907 raw words (165038 effective words) took 1.6s, 105495 effective words/s\n",
      "2022-05-31 19:46:40,403 : INFO : Word2Vec lifecycle event {'msg': 'training on 2589070 raw words (1650412 effective words) took 18.7s, 88440 effective words/s', 'datetime': '2022-05-31T19:46:40.403860', 'gensim': '4.2.0', 'python': '3.9.7 (default, Sep 16 2021, 16:59:28) [MSC v.1916 64 bit (AMD64)]', 'platform': 'Windows-10-10.0.19044-SP0', 'event': 'train'}\n"
     ]
    },
    {
     "data": {
      "text/plain": [
       "(1650412, 2589070)"
      ]
     },
     "execution_count": 106,
     "metadata": {},
     "output_type": "execute_result"
    }
   ],
   "source": [
    "# train word2vec model\n",
    "model = Word2Vec(window = 10, sg = 1, hs = 0,\n",
    "                 negative = 10, # for negative sampling\n",
    "                 alpha=0.03, min_alpha=0.0007,\n",
    "                 seed = 14)\n",
    "\n",
    "model.build_vocab(purchases_train, progress_per=200)\n",
    "\n",
    "model.train(purchases_train, total_examples = model.corpus_count, \n",
    "            epochs=10, report_delay=1)"
   ]
  },
  {
   "cell_type": "code",
   "execution_count": 109,
   "id": "0b4cc2d6-ab95-401f-9ac8-e16aa5de5e76",
   "metadata": {},
   "outputs": [
    {
     "name": "stdout",
     "output_type": "stream",
     "text": [
      "Word2Vec<vocab=10067, vector_size=100, alpha=0.03>\n"
     ]
    }
   ],
   "source": [
    "print(model)"
   ]
  },
  {
   "cell_type": "markdown",
   "id": "fb84e690-33d1-4761-bc55-82f5cfd1436d",
   "metadata": {},
   "source": [
    "Our model has a vocabulary of 11211 unique words and their vectors of size 100 each.\n",
    "Next, we will extract the vectors of all the words in our vocabulary and store it in one place for easy access."
   ]
  },
  {
   "cell_type": "code",
   "execution_count": 199,
   "id": "685efc7e-7a10-47f3-92e7-fd7e2045e90b",
   "metadata": {
    "tags": []
   },
   "outputs": [
    {
     "ename": "AttributeError",
     "evalue": "'function' object has no attribute 'size'",
     "output_type": "error",
     "traceback": [
      "\u001b[1;31m---------------------------------------------------------------------------\u001b[0m",
      "\u001b[1;31mAttributeError\u001b[0m                            Traceback (most recent call last)",
      "\u001b[1;32m~\\AppData\\Local\\Temp/ipykernel_9708/1785479533.py\u001b[0m in \u001b[0;36m<module>\u001b[1;34m\u001b[0m\n\u001b[0;32m      1\u001b[0m \u001b[1;31m# extract all vectors\u001b[0m\u001b[1;33m\u001b[0m\u001b[1;33m\u001b[0m\u001b[0m\n\u001b[0;32m      2\u001b[0m \u001b[0mX\u001b[0m \u001b[1;33m=\u001b[0m \u001b[0mmodel\u001b[0m\u001b[1;33m.\u001b[0m\u001b[0mwv\u001b[0m\u001b[1;33m.\u001b[0m\u001b[0mget_vector\u001b[0m\u001b[1;33m\u001b[0m\u001b[1;33m\u001b[0m\u001b[0m\n\u001b[1;32m----> 3\u001b[1;33m \u001b[0mX\u001b[0m\u001b[1;33m.\u001b[0m\u001b[0msize\u001b[0m\u001b[1;33m\u001b[0m\u001b[1;33m\u001b[0m\u001b[0m\n\u001b[0m",
      "\u001b[1;31mAttributeError\u001b[0m: 'function' object has no attribute 'size'"
     ]
    }
   ],
   "source": [
    "# extract all vectors\n",
    "X = model.wv.get_vector\n"
   ]
  },
  {
   "cell_type": "code",
   "execution_count": 115,
   "id": "c5aba912-cb57-4735-bbf5-6e89a24bd310",
   "metadata": {},
   "outputs": [],
   "source": [
    "# X = list(model.wv.index_to_key)\n"
   ]
  },
  {
   "cell_type": "code",
   "execution_count": 118,
   "id": "643478d5-7044-4e9d-a906-36fe1afb89da",
   "metadata": {},
   "outputs": [
    {
     "name": "stdout",
     "output_type": "stream",
     "text": [
      "11211\n"
     ]
    }
   ],
   "source": [
    "# print(len(X))"
   ]
  },
  {
   "cell_type": "code",
   "execution_count": 123,
   "id": "9b7c2995-48e6-40c9-afa5-fca1c2424304",
   "metadata": {},
   "outputs": [],
   "source": [
    "# y= model.wv.vector_size\n"
   ]
  },
  {
   "cell_type": "markdown",
   "id": "5a5db723-af1f-4125-b25e-163d954f796f",
   "metadata": {},
   "source": [
    "### Visualize word2vec Embeddings"
   ]
  },
  {
   "cell_type": "code",
   "execution_count": 153,
   "id": "0dd705d0-e80f-4401-bca5-1720b3990699",
   "metadata": {},
   "outputs": [
    {
     "data": {
      "text/plain": [
       "<matplotlib.collections.PathCollection at 0x1e8f2c359d0>"
      ]
     },
     "execution_count": 153,
     "metadata": {},
     "output_type": "execute_result"
    },
    {
     "data": {
      "image/png": "[encoded data removed]",
      "text/plain": [
       "<Figure size 720x648 with 1 Axes>"
      ]
     },
     "metadata": {
      "needs_background": "light"
     },
     "output_type": "display_data"
    }
   ],
   "source": [
    "import umap\n",
    "\n",
    "cluster_embedding = umap.UMAP(n_neighbors=30, min_dist=0.0,\n",
    "                              n_components=2, random_state=42).fit_transform(X)\n",
    "\n",
    "plt.figure(figsize=(10,9))\n",
    "plt.scatter(cluster_embedding[:, 0], cluster_embedding[:, 1], s=3, cmap='Spectral')\n"
   ]
  },
  {
   "cell_type": "markdown",
   "id": "b62613be-8d7f-4f8c-9617-8ec8ff6aa55f",
   "metadata": {},
   "source": [
    "### Start Recommending Products"
   ]
  },
  {
   "cell_type": "code",
   "execution_count": 185,
   "id": "1b108fe3-e444-4da0-9170-e954eda1df60",
   "metadata": {},
   "outputs": [
    {
     "name": "stdout",
     "output_type": "stream",
     "text": [
      "Word2Vec<vocab=10067, vector_size=100, alpha=0.03>\n"
     ]
    }
   ],
   "source": [
    "print(new_model)"
   ]
  },
  {
   "cell_type": "code",
   "execution_count": 200,
   "id": "cf981d95-e30e-4ec2-bb0c-7aef70fdff76",
   "metadata": {},
   "outputs": [],
   "source": [
    "products = train_df[[\"product_id\", \"client\"]]\n",
    "\n",
    "# remove duplicates\n",
    "products.drop_duplicates(inplace=True, subset='product_id', keep=\"last\")\n",
    "\n",
    "# create product-ID and product-description dictionary\n",
    "products_dict = products.groupby('product_id')['client'].apply(list).to_dict()"
   ]
  },
  {
   "cell_type": "code",
   "execution_count": 201,
   "id": "a5b6a8db-47f9-434c-96a0-201538cd9580",
   "metadata": {},
   "outputs": [
    {
     "data": {
      "text/plain": [
       "['dd862c23-7265-4c74-892a-6d23d94beed1']"
      ]
     },
     "execution_count": 201,
     "metadata": {},
     "output_type": "execute_result"
    }
   ],
   "source": [
    "products_dict['514260428']"
   ]
  },
  {
   "cell_type": "code",
   "execution_count": 202,
   "id": "4f19193b-ea57-48cc-8549-877dc169b06e",
   "metadata": {},
   "outputs": [],
   "source": [
    "def similar_products(v, n = 6):\n",
    "    \n",
    "    # extract most similar products for the input vector\n",
    "    ms = new_model.wv.most_similar(v, topn= n+1)[1:]\n",
    "\n",
    "    \n",
    "    # extract name and similarity score of the similar products\n",
    "    new_ms = []\n",
    "    for j in ms:\n",
    "        pair = (products_dict[j[0]][0], j[1])\n",
    "        new_ms.append(pair)\n",
    "        \n",
    "    return new_ms     "
   ]
  },
  {
   "cell_type": "code",
   "execution_count": 209,
   "id": "6d781720-c1e6-4c86-a5e6-8f5027cfc553",
   "metadata": {},
   "outputs": [
    {
     "ename": "KeyError",
     "evalue": "\"Key '514260428' not present in vocabulary\"",
     "output_type": "error",
     "traceback": [
      "\u001b[1;31m---------------------------------------------------------------------------\u001b[0m",
      "\u001b[1;31mKeyError\u001b[0m                                  Traceback (most recent call last)",
      "\u001b[1;32m~\\AppData\\Local\\Temp/ipykernel_9708/869095405.py\u001b[0m in \u001b[0;36m<module>\u001b[1;34m\u001b[0m\n\u001b[1;32m----> 1\u001b[1;33m \u001b[0msimilar_products\u001b[0m\u001b[1;33m(\u001b[0m\u001b[1;33m[\u001b[0m\u001b[1;34m'514260428'\u001b[0m\u001b[1;33m]\u001b[0m\u001b[1;33m)\u001b[0m\u001b[1;33m\u001b[0m\u001b[1;33m\u001b[0m\u001b[0m\n\u001b[0m",
      "\u001b[1;32m~\\AppData\\Local\\Temp/ipykernel_9708/1468361808.py\u001b[0m in \u001b[0;36msimilar_products\u001b[1;34m(v, n)\u001b[0m\n\u001b[0;32m      2\u001b[0m \u001b[1;33m\u001b[0m\u001b[0m\n\u001b[0;32m      3\u001b[0m     \u001b[1;31m# extract most similar products for the input vector\u001b[0m\u001b[1;33m\u001b[0m\u001b[1;33m\u001b[0m\u001b[0m\n\u001b[1;32m----> 4\u001b[1;33m     \u001b[0mms\u001b[0m \u001b[1;33m=\u001b[0m \u001b[0mnew_model\u001b[0m\u001b[1;33m.\u001b[0m\u001b[0mwv\u001b[0m\u001b[1;33m.\u001b[0m\u001b[0mmost_similar\u001b[0m\u001b[1;33m(\u001b[0m\u001b[0mv\u001b[0m\u001b[1;33m,\u001b[0m \u001b[0mtopn\u001b[0m\u001b[1;33m=\u001b[0m \u001b[0mn\u001b[0m\u001b[1;33m+\u001b[0m\u001b[1;36m1\u001b[0m\u001b[1;33m)\u001b[0m\u001b[1;33m[\u001b[0m\u001b[1;36m1\u001b[0m\u001b[1;33m:\u001b[0m\u001b[1;33m]\u001b[0m\u001b[1;33m\u001b[0m\u001b[1;33m\u001b[0m\u001b[0m\n\u001b[0m\u001b[0;32m      5\u001b[0m \u001b[1;33m\u001b[0m\u001b[0m\n\u001b[0;32m      6\u001b[0m \u001b[1;33m\u001b[0m\u001b[0m\n",
      "\u001b[1;32m~\\anaconda3\\lib\\site-packages\\gensim\\models\\keyedvectors.py\u001b[0m in \u001b[0;36mmost_similar\u001b[1;34m(self, positive, negative, topn, clip_start, clip_end, restrict_vocab, indexer)\u001b[0m\n\u001b[0;32m    840\u001b[0m \u001b[1;33m\u001b[0m\u001b[0m\n\u001b[0;32m    841\u001b[0m         \u001b[1;31m# compute the weighted average of all keys\u001b[0m\u001b[1;33m\u001b[0m\u001b[1;33m\u001b[0m\u001b[0m\n\u001b[1;32m--> 842\u001b[1;33m         \u001b[0mmean\u001b[0m \u001b[1;33m=\u001b[0m \u001b[0mself\u001b[0m\u001b[1;33m.\u001b[0m\u001b[0mget_mean_vector\u001b[0m\u001b[1;33m(\u001b[0m\u001b[0mkeys\u001b[0m\u001b[1;33m,\u001b[0m \u001b[0mweight\u001b[0m\u001b[1;33m,\u001b[0m \u001b[0mpre_normalize\u001b[0m\u001b[1;33m=\u001b[0m\u001b[1;32mTrue\u001b[0m\u001b[1;33m,\u001b[0m \u001b[0mpost_normalize\u001b[0m\u001b[1;33m=\u001b[0m\u001b[1;32mTrue\u001b[0m\u001b[1;33m,\u001b[0m \u001b[0mignore_missing\u001b[0m\u001b[1;33m=\u001b[0m\u001b[1;32mFalse\u001b[0m\u001b[1;33m)\u001b[0m\u001b[1;33m\u001b[0m\u001b[1;33m\u001b[0m\u001b[0m\n\u001b[0m\u001b[0;32m    843\u001b[0m         all_keys = [\n\u001b[0;32m    844\u001b[0m             \u001b[0mself\u001b[0m\u001b[1;33m.\u001b[0m\u001b[0mget_index\u001b[0m\u001b[1;33m(\u001b[0m\u001b[0mkey\u001b[0m\u001b[1;33m)\u001b[0m \u001b[1;32mfor\u001b[0m \u001b[0mkey\u001b[0m \u001b[1;32min\u001b[0m \u001b[0mkeys\u001b[0m \u001b[1;32mif\u001b[0m \u001b[0misinstance\u001b[0m\u001b[1;33m(\u001b[0m\u001b[0mkey\u001b[0m\u001b[1;33m,\u001b[0m \u001b[0m_KEY_TYPES\u001b[0m\u001b[1;33m)\u001b[0m \u001b[1;32mand\u001b[0m \u001b[0mself\u001b[0m\u001b[1;33m.\u001b[0m\u001b[0mhas_index_for\u001b[0m\u001b[1;33m(\u001b[0m\u001b[0mkey\u001b[0m\u001b[1;33m)\u001b[0m\u001b[1;33m\u001b[0m\u001b[1;33m\u001b[0m\u001b[0m\n",
      "\u001b[1;32m~\\anaconda3\\lib\\site-packages\\gensim\\models\\keyedvectors.py\u001b[0m in \u001b[0;36mget_mean_vector\u001b[1;34m(self, keys, weights, pre_normalize, post_normalize, ignore_missing)\u001b[0m\n\u001b[0;32m    517\u001b[0m                 \u001b[0mtotal_weight\u001b[0m \u001b[1;33m+=\u001b[0m \u001b[0mabs\u001b[0m\u001b[1;33m(\u001b[0m\u001b[0mweights\u001b[0m\u001b[1;33m[\u001b[0m\u001b[0midx\u001b[0m\u001b[1;33m]\u001b[0m\u001b[1;33m)\u001b[0m\u001b[1;33m\u001b[0m\u001b[1;33m\u001b[0m\u001b[0m\n\u001b[0;32m    518\u001b[0m             \u001b[1;32melif\u001b[0m \u001b[1;32mnot\u001b[0m \u001b[0mignore_missing\u001b[0m\u001b[1;33m:\u001b[0m\u001b[1;33m\u001b[0m\u001b[1;33m\u001b[0m\u001b[0m\n\u001b[1;32m--> 519\u001b[1;33m                 \u001b[1;32mraise\u001b[0m \u001b[0mKeyError\u001b[0m\u001b[1;33m(\u001b[0m\u001b[1;34mf\"Key '{key}' not present in vocabulary\"\u001b[0m\u001b[1;33m)\u001b[0m\u001b[1;33m\u001b[0m\u001b[1;33m\u001b[0m\u001b[0m\n\u001b[0m\u001b[0;32m    520\u001b[0m \u001b[1;33m\u001b[0m\u001b[0m\n\u001b[0;32m    521\u001b[0m         \u001b[1;32mif\u001b[0m\u001b[1;33m(\u001b[0m\u001b[0mtotal_weight\u001b[0m \u001b[1;33m>\u001b[0m \u001b[1;36m0\u001b[0m\u001b[1;33m)\u001b[0m\u001b[1;33m:\u001b[0m\u001b[1;33m\u001b[0m\u001b[1;33m\u001b[0m\u001b[0m\n",
      "\u001b[1;31mKeyError\u001b[0m: \"Key '514260428' not present in vocabulary\""
     ]
    }
   ],
   "source": [
    "similar_products(['514260428'])"
   ]
  },
  {
   "cell_type": "code",
   "execution_count": 207,
   "id": "31d3dccf-dc7a-4477-8891-a5c6e60209f2",
   "metadata": {},
   "outputs": [
    {
     "ename": "TypeError",
     "evalue": "'Word2Vec' object is not subscriptable",
     "output_type": "error",
     "traceback": [
      "\u001b[1;31m---------------------------------------------------------------------------\u001b[0m",
      "\u001b[1;31mTypeError\u001b[0m                                 Traceback (most recent call last)",
      "\u001b[1;32m~\\AppData\\Local\\Temp/ipykernel_9708/3860757617.py\u001b[0m in \u001b[0;36m<module>\u001b[1;34m\u001b[0m\n\u001b[1;32m----> 1\u001b[1;33m \u001b[0msimilar_products\u001b[0m\u001b[1;33m(\u001b[0m\u001b[0mmodel\u001b[0m\u001b[1;33m[\u001b[0m\u001b[1;34m'63593'\u001b[0m\u001b[1;33m]\u001b[0m\u001b[1;33m)\u001b[0m\u001b[1;33m\u001b[0m\u001b[1;33m\u001b[0m\u001b[0m\n\u001b[0m",
      "\u001b[1;31mTypeError\u001b[0m: 'Word2Vec' object is not subscriptable"
     ]
    }
   ],
   "source": [
    "similar_products(model['63593'])"
   ]
  },
  {
   "cell_type": "code",
   "execution_count": 208,
   "id": "c17c4a87-eed7-4d31-9760-42d228497714",
   "metadata": {},
   "outputs": [
    {
     "ename": "KeyError",
     "evalue": "\"Key '514260428' not present\"",
     "output_type": "error",
     "traceback": [
      "\u001b[1;31m---------------------------------------------------------------------------\u001b[0m",
      "\u001b[1;31mKeyError\u001b[0m                                  Traceback (most recent call last)",
      "\u001b[1;32m~\\AppData\\Local\\Temp/ipykernel_9708/1258292813.py\u001b[0m in \u001b[0;36m<module>\u001b[1;34m\u001b[0m\n\u001b[0;32m      1\u001b[0m \u001b[1;32mfrom\u001b[0m \u001b[0mgensim\u001b[0m\u001b[1;33m.\u001b[0m\u001b[0mmodels\u001b[0m \u001b[1;32mimport\u001b[0m \u001b[0mWord2Vec\u001b[0m\u001b[1;33m\u001b[0m\u001b[1;33m\u001b[0m\u001b[0m\n\u001b[1;32m----> 2\u001b[1;33m \u001b[0mnew_model\u001b[0m\u001b[1;33m.\u001b[0m\u001b[0mwv\u001b[0m\u001b[1;33m.\u001b[0m\u001b[0msimilarity\u001b[0m\u001b[1;33m(\u001b[0m\u001b[1;34m'514260428'\u001b[0m\u001b[1;33m,\u001b[0m \u001b[1;34m'63593'\u001b[0m\u001b[1;33m)\u001b[0m\u001b[1;33m\u001b[0m\u001b[1;33m\u001b[0m\u001b[0m\n\u001b[0m",
      "\u001b[1;32m~\\anaconda3\\lib\\site-packages\\gensim\\models\\keyedvectors.py\u001b[0m in \u001b[0;36msimilarity\u001b[1;34m(self, w1, w2)\u001b[0m\n\u001b[0;32m   1236\u001b[0m \u001b[1;33m\u001b[0m\u001b[0m\n\u001b[0;32m   1237\u001b[0m         \"\"\"\n\u001b[1;32m-> 1238\u001b[1;33m         \u001b[1;32mreturn\u001b[0m \u001b[0mdot\u001b[0m\u001b[1;33m(\u001b[0m\u001b[0mmatutils\u001b[0m\u001b[1;33m.\u001b[0m\u001b[0munitvec\u001b[0m\u001b[1;33m(\u001b[0m\u001b[0mself\u001b[0m\u001b[1;33m[\u001b[0m\u001b[0mw1\u001b[0m\u001b[1;33m]\u001b[0m\u001b[1;33m)\u001b[0m\u001b[1;33m,\u001b[0m \u001b[0mmatutils\u001b[0m\u001b[1;33m.\u001b[0m\u001b[0munitvec\u001b[0m\u001b[1;33m(\u001b[0m\u001b[0mself\u001b[0m\u001b[1;33m[\u001b[0m\u001b[0mw2\u001b[0m\u001b[1;33m]\u001b[0m\u001b[1;33m)\u001b[0m\u001b[1;33m)\u001b[0m\u001b[1;33m\u001b[0m\u001b[1;33m\u001b[0m\u001b[0m\n\u001b[0m\u001b[0;32m   1239\u001b[0m \u001b[1;33m\u001b[0m\u001b[0m\n\u001b[0;32m   1240\u001b[0m     \u001b[1;32mdef\u001b[0m \u001b[0mn_similarity\u001b[0m\u001b[1;33m(\u001b[0m\u001b[0mself\u001b[0m\u001b[1;33m,\u001b[0m \u001b[0mws1\u001b[0m\u001b[1;33m,\u001b[0m \u001b[0mws2\u001b[0m\u001b[1;33m)\u001b[0m\u001b[1;33m:\u001b[0m\u001b[1;33m\u001b[0m\u001b[1;33m\u001b[0m\u001b[0m\n",
      "\u001b[1;32m~\\anaconda3\\lib\\site-packages\\gensim\\models\\keyedvectors.py\u001b[0m in \u001b[0;36m__getitem__\u001b[1;34m(self, key_or_keys)\u001b[0m\n\u001b[0;32m    402\u001b[0m         \"\"\"\n\u001b[0;32m    403\u001b[0m         \u001b[1;32mif\u001b[0m \u001b[0misinstance\u001b[0m\u001b[1;33m(\u001b[0m\u001b[0mkey_or_keys\u001b[0m\u001b[1;33m,\u001b[0m \u001b[0m_KEY_TYPES\u001b[0m\u001b[1;33m)\u001b[0m\u001b[1;33m:\u001b[0m\u001b[1;33m\u001b[0m\u001b[1;33m\u001b[0m\u001b[0m\n\u001b[1;32m--> 404\u001b[1;33m             \u001b[1;32mreturn\u001b[0m \u001b[0mself\u001b[0m\u001b[1;33m.\u001b[0m\u001b[0mget_vector\u001b[0m\u001b[1;33m(\u001b[0m\u001b[0mkey_or_keys\u001b[0m\u001b[1;33m)\u001b[0m\u001b[1;33m\u001b[0m\u001b[1;33m\u001b[0m\u001b[0m\n\u001b[0m\u001b[0;32m    405\u001b[0m \u001b[1;33m\u001b[0m\u001b[0m\n\u001b[0;32m    406\u001b[0m         \u001b[1;32mreturn\u001b[0m \u001b[0mvstack\u001b[0m\u001b[1;33m(\u001b[0m\u001b[1;33m[\u001b[0m\u001b[0mself\u001b[0m\u001b[1;33m.\u001b[0m\u001b[0mget_vector\u001b[0m\u001b[1;33m(\u001b[0m\u001b[0mkey\u001b[0m\u001b[1;33m)\u001b[0m \u001b[1;32mfor\u001b[0m \u001b[0mkey\u001b[0m \u001b[1;32min\u001b[0m \u001b[0mkey_or_keys\u001b[0m\u001b[1;33m]\u001b[0m\u001b[1;33m)\u001b[0m\u001b[1;33m\u001b[0m\u001b[1;33m\u001b[0m\u001b[0m\n",
      "\u001b[1;32m~\\anaconda3\\lib\\site-packages\\gensim\\models\\keyedvectors.py\u001b[0m in \u001b[0;36mget_vector\u001b[1;34m(self, key, norm)\u001b[0m\n\u001b[0;32m    445\u001b[0m \u001b[1;33m\u001b[0m\u001b[0m\n\u001b[0;32m    446\u001b[0m         \"\"\"\n\u001b[1;32m--> 447\u001b[1;33m         \u001b[0mindex\u001b[0m \u001b[1;33m=\u001b[0m \u001b[0mself\u001b[0m\u001b[1;33m.\u001b[0m\u001b[0mget_index\u001b[0m\u001b[1;33m(\u001b[0m\u001b[0mkey\u001b[0m\u001b[1;33m)\u001b[0m\u001b[1;33m\u001b[0m\u001b[1;33m\u001b[0m\u001b[0m\n\u001b[0m\u001b[0;32m    448\u001b[0m         \u001b[1;32mif\u001b[0m \u001b[0mnorm\u001b[0m\u001b[1;33m:\u001b[0m\u001b[1;33m\u001b[0m\u001b[1;33m\u001b[0m\u001b[0m\n\u001b[0;32m    449\u001b[0m             \u001b[0mself\u001b[0m\u001b[1;33m.\u001b[0m\u001b[0mfill_norms\u001b[0m\u001b[1;33m(\u001b[0m\u001b[1;33m)\u001b[0m\u001b[1;33m\u001b[0m\u001b[1;33m\u001b[0m\u001b[0m\n",
      "\u001b[1;32m~\\anaconda3\\lib\\site-packages\\gensim\\models\\keyedvectors.py\u001b[0m in \u001b[0;36mget_index\u001b[1;34m(self, key, default)\u001b[0m\n\u001b[0;32m    419\u001b[0m             \u001b[1;32mreturn\u001b[0m \u001b[0mdefault\u001b[0m\u001b[1;33m\u001b[0m\u001b[1;33m\u001b[0m\u001b[0m\n\u001b[0;32m    420\u001b[0m         \u001b[1;32melse\u001b[0m\u001b[1;33m:\u001b[0m\u001b[1;33m\u001b[0m\u001b[1;33m\u001b[0m\u001b[0m\n\u001b[1;32m--> 421\u001b[1;33m             \u001b[1;32mraise\u001b[0m \u001b[0mKeyError\u001b[0m\u001b[1;33m(\u001b[0m\u001b[1;34mf\"Key '{key}' not present\"\u001b[0m\u001b[1;33m)\u001b[0m\u001b[1;33m\u001b[0m\u001b[1;33m\u001b[0m\u001b[0m\n\u001b[0m\u001b[0;32m    422\u001b[0m \u001b[1;33m\u001b[0m\u001b[0m\n\u001b[0;32m    423\u001b[0m     \u001b[1;32mdef\u001b[0m \u001b[0mget_vector\u001b[0m\u001b[1;33m(\u001b[0m\u001b[0mself\u001b[0m\u001b[1;33m,\u001b[0m \u001b[0mkey\u001b[0m\u001b[1;33m,\u001b[0m \u001b[0mnorm\u001b[0m\u001b[1;33m=\u001b[0m\u001b[1;32mFalse\u001b[0m\u001b[1;33m)\u001b[0m\u001b[1;33m:\u001b[0m\u001b[1;33m\u001b[0m\u001b[1;33m\u001b[0m\u001b[0m\n",
      "\u001b[1;31mKeyError\u001b[0m: \"Key '514260428' not present\""
     ]
    }
   ],
   "source": [
    "from gensim.models import Word2Vec\n",
    "new_model.wv.similarity('514260428', '63593')"
   ]
  },
  {
   "cell_type": "code",
   "execution_count": null,
   "id": "c853cdd8-fb6d-4fca-9907-7fe02a18ceeb",
   "metadata": {},
   "outputs": [],
   "source": []
  },
  {
   "cell_type": "code",
   "execution_count": null,
   "id": "608c2aba-646d-4329-9262-7fab10c8d671",
   "metadata": {},
   "outputs": [],
   "source": []
  },
  {
   "cell_type": "code",
   "execution_count": null,
   "id": "8267261e-fbf4-4070-91e5-3f0cc346f4a7",
   "metadata": {},
   "outputs": [],
   "source": []
  }
 ],
 "metadata": {
  "colab": {
   "collapsed_sections": [],
   "name": "Part1.ipynb",
   "provenance": []
  },
  "kernelspec": {
   "display_name": "Python 3 (ipykernel)",
   "language": "python",
   "name": "python3"
  },
  "language_info": {
   "codemirror_mode": {
    "name": "ipython",
    "version": 3
   },
   "file_extension": ".py",
   "mimetype": "text/x-python",
   "name": "python",
   "nbconvert_exporter": "python",
   "pygments_lexer": "ipython3",
   "version": "3.9.7"
  }
 },
 "nbformat": 4,
 "nbformat_minor": 5
}
