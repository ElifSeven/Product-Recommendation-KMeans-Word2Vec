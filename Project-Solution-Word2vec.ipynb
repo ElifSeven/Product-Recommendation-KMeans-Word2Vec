{
 "cells": [
  {
   "cell_type": "code",
   "execution_count": 82,
   "id": "3e18967c",
   "metadata": {},
   "outputs": [],
   "source": [
    "import pandas as pd\n",
    "import numpy as np\n",
    "import random\n",
    "from tqdm import tqdm\n",
    "from gensim.models import word2vec\n",
    "import matplotlib.pyplot as plt\n",
    "\n",
    "%matplotlib inline\n",
    "import umap\n",
    "\n",
    "import warnings\n",
    "warnings.filterwarnings('ignore')\n",
    "\n",
    "\n",
    "# %matplotlib inline\n",
    "plt.style.use(\"ggplot\")\n",
    "\n",
    "import sklearn\n",
    "from sklearn.decomposition import TruncatedSVD\n",
    "import seaborn as sns\n",
    "from sklearn.neighbors import KNeighborsClassifier\n"
   ]
  },
  {
   "cell_type": "markdown",
   "id": "30712961-ae7c-492a-94ff-9b8e1299bd08",
   "metadata": {},
   "source": [
    "## PART1 - Data Cleaning & Exploratory Data Analysis & Visualization"
   ]
  },
  {
   "cell_type": "markdown",
   "id": "1c023268-2730-45df-88c8-b4922727c1b5",
   "metadata": {},
   "source": [
    "#### Loading the Dataset"
   ]
  },
  {
   "cell_type": "code",
   "execution_count": 83,
   "id": "2a7e03b6-9049-4134-87ca-f224cf533bcf",
   "metadata": {},
   "outputs": [],
   "source": [
    "def product_view_based_data():\n",
    "  products = pd.read_csv(\"products.csv\",index_col=[0])\n",
    "  products.columns = ['Client','Timestamp','ProductId'] # renaming columns\n",
    "    \n",
    "  data = products.copy() ## to protect previous version\n",
    "\n",
    "  return data"
   ]
  },
  {
   "cell_type": "code",
   "execution_count": 84,
   "id": "85014166-7b1d-4514-bb2f-c73330707cf9",
   "metadata": {},
   "outputs": [
    {
     "data": {
      "text/html": [
       "<div>\n",
       "<style scoped>\n",
       "    .dataframe tbody tr th:only-of-type {\n",
       "        vertical-align: middle;\n",
       "    }\n",
       "\n",
       "    .dataframe tbody tr th {\n",
       "        vertical-align: top;\n",
       "    }\n",
       "\n",
       "    .dataframe thead th {\n",
       "        text-align: right;\n",
       "    }\n",
       "</style>\n",
       "<table border=\"1\" class=\"dataframe\">\n",
       "  <thead>\n",
       "    <tr style=\"text-align: right;\">\n",
       "      <th></th>\n",
       "      <th>Client</th>\n",
       "      <th>Timestamp</th>\n",
       "      <th>ProductId</th>\n",
       "    </tr>\n",
       "  </thead>\n",
       "  <tbody>\n",
       "    <tr>\n",
       "      <th>208</th>\n",
       "      <td>85ab8f53-b934-49dd-8d54-479ed08499f6</td>\n",
       "      <td>2021-08-29 17:05:45.368000+00:00</td>\n",
       "      <td>63594</td>\n",
       "    </tr>\n",
       "    <tr>\n",
       "      <th>209</th>\n",
       "      <td>85ab8f53-b934-49dd-8d54-479ed08499f6</td>\n",
       "      <td>2021-08-29 17:07:02.711000+00:00</td>\n",
       "      <td>63290</td>\n",
       "    </tr>\n",
       "    <tr>\n",
       "      <th>210</th>\n",
       "      <td>85ab8f53-b934-49dd-8d54-479ed08499f6</td>\n",
       "      <td>2021-08-29 17:08:51.306000+00:00</td>\n",
       "      <td>64872</td>\n",
       "    </tr>\n",
       "    <tr>\n",
       "      <th>247</th>\n",
       "      <td>46989f50-87f9-4ece-9db3-cffaa3bf2278</td>\n",
       "      <td>2021-08-29 19:23:07.176000+00:00</td>\n",
       "      <td>63593</td>\n",
       "    </tr>\n",
       "    <tr>\n",
       "      <th>1665</th>\n",
       "      <td>dbbcd1c1-c0ca-4eed-b144-736fc40f6d24</td>\n",
       "      <td>2021-08-29 20:00:40.706000+00:00</td>\n",
       "      <td>56093</td>\n",
       "    </tr>\n",
       "  </tbody>\n",
       "</table>\n",
       "</div>"
      ],
      "text/plain": [
       "                                    Client                         Timestamp  \\\n",
       "208   85ab8f53-b934-49dd-8d54-479ed08499f6  2021-08-29 17:05:45.368000+00:00   \n",
       "209   85ab8f53-b934-49dd-8d54-479ed08499f6  2021-08-29 17:07:02.711000+00:00   \n",
       "210   85ab8f53-b934-49dd-8d54-479ed08499f6  2021-08-29 17:08:51.306000+00:00   \n",
       "247   46989f50-87f9-4ece-9db3-cffaa3bf2278  2021-08-29 19:23:07.176000+00:00   \n",
       "1665  dbbcd1c1-c0ca-4eed-b144-736fc40f6d24  2021-08-29 20:00:40.706000+00:00   \n",
       "\n",
       "     ProductId  \n",
       "208      63594  \n",
       "209      63290  \n",
       "210      64872  \n",
       "247      63593  \n",
       "1665     56093  "
      ]
     },
     "execution_count": 84,
     "metadata": {},
     "output_type": "execute_result"
    }
   ],
   "source": [
    "product_view_data = product_view_based_data()\n",
    "product_view_data.head()"
   ]
  },
  {
   "cell_type": "code",
   "execution_count": 85,
   "id": "4ba8dfd3-7760-492e-8c2e-4c45e330faaf",
   "metadata": {},
   "outputs": [
    {
     "data": {
      "text/html": [
       "<div>\n",
       "<style scoped>\n",
       "    .dataframe tbody tr th:only-of-type {\n",
       "        vertical-align: middle;\n",
       "    }\n",
       "\n",
       "    .dataframe tbody tr th {\n",
       "        vertical-align: top;\n",
       "    }\n",
       "\n",
       "    .dataframe thead th {\n",
       "        text-align: right;\n",
       "    }\n",
       "</style>\n",
       "<table border=\"1\" class=\"dataframe\">\n",
       "  <thead>\n",
       "    <tr style=\"text-align: right;\">\n",
       "      <th></th>\n",
       "      <th>Client</th>\n",
       "      <th>Timestamp</th>\n",
       "      <th>ProductId</th>\n",
       "    </tr>\n",
       "  </thead>\n",
       "  <tbody>\n",
       "    <tr>\n",
       "      <th>17004826</th>\n",
       "      <td>8776db01-284d-435d-8a59-33cb75d8bf63</td>\n",
       "      <td>2021-09-14 16:17:36.304000+00:00</td>\n",
       "      <td>615292687</td>\n",
       "    </tr>\n",
       "    <tr>\n",
       "      <th>17004827</th>\n",
       "      <td>8776db01-284d-435d-8a59-33cb75d8bf63</td>\n",
       "      <td>2021-09-14 16:26:08.205000+00:00</td>\n",
       "      <td>113877068</td>\n",
       "    </tr>\n",
       "    <tr>\n",
       "      <th>17004886</th>\n",
       "      <td>5c48ff59-358d-4b7d-823d-21ce7b4b7d3b</td>\n",
       "      <td>2021-09-14 20:13:18.263000+00:00</td>\n",
       "      <td>745895506</td>\n",
       "    </tr>\n",
       "    <tr>\n",
       "      <th>17004950</th>\n",
       "      <td>e522131c-c63a-476e-b9c2-d2c9e25b3956</td>\n",
       "      <td>2021-09-14 10:15:28.010000+00:00</td>\n",
       "      <td>350993703</td>\n",
       "    </tr>\n",
       "    <tr>\n",
       "      <th>17005068</th>\n",
       "      <td>397f7431-3eba-4fff-acd3-818a64e5e26b</td>\n",
       "      <td>2021-09-14 10:19:12.904000+00:00</td>\n",
       "      <td>599284204</td>\n",
       "    </tr>\n",
       "  </tbody>\n",
       "</table>\n",
       "</div>"
      ],
      "text/plain": [
       "                                        Client  \\\n",
       "17004826  8776db01-284d-435d-8a59-33cb75d8bf63   \n",
       "17004827  8776db01-284d-435d-8a59-33cb75d8bf63   \n",
       "17004886  5c48ff59-358d-4b7d-823d-21ce7b4b7d3b   \n",
       "17004950  e522131c-c63a-476e-b9c2-d2c9e25b3956   \n",
       "17005068  397f7431-3eba-4fff-acd3-818a64e5e26b   \n",
       "\n",
       "                                 Timestamp  ProductId  \n",
       "17004826  2021-09-14 16:17:36.304000+00:00  615292687  \n",
       "17004827  2021-09-14 16:26:08.205000+00:00  113877068  \n",
       "17004886  2021-09-14 20:13:18.263000+00:00  745895506  \n",
       "17004950  2021-09-14 10:15:28.010000+00:00  350993703  \n",
       "17005068  2021-09-14 10:19:12.904000+00:00  599284204  "
      ]
     },
     "execution_count": 85,
     "metadata": {},
     "output_type": "execute_result"
    }
   ],
   "source": [
    "product_view_data.tail()"
   ]
  },
  {
   "cell_type": "markdown",
   "id": "99c1c8ec-9fbb-4cef-888d-d149810a6100",
   "metadata": {},
   "source": [
    "### Structured Information of Dataset"
   ]
  },
  {
   "cell_type": "code",
   "execution_count": 86,
   "id": "8cd72241-5c7b-4bb0-8fb2-832c2119facc",
   "metadata": {},
   "outputs": [
    {
     "name": "stdout",
     "output_type": "stream",
     "text": [
      "Shape: (323614, 3)\n",
      "Column names: Index(['Client', 'Timestamp', 'ProductId'], dtype='object')\n"
     ]
    }
   ],
   "source": [
    "print(\"Shape: %s\" % str(product_view_data.shape))\n",
    "print(\"Column names: %s\" % str(product_view_data.columns))"
   ]
  },
  {
   "cell_type": "code",
   "execution_count": 87,
   "id": "dc8a9b32-46fc-4808-a624-91baa088a0a9",
   "metadata": {},
   "outputs": [
    {
     "name": "stdout",
     "output_type": "stream",
     "text": [
      "<class 'pandas.core.frame.DataFrame'>\n",
      "Int64Index: 323614 entries, 208 to 17005068\n",
      "Data columns (total 3 columns):\n",
      " #   Column     Non-Null Count   Dtype \n",
      "---  ------     --------------   ----- \n",
      " 0   Client     323614 non-null  object\n",
      " 1   Timestamp  323614 non-null  object\n",
      " 2   ProductId  323614 non-null  object\n",
      "dtypes: object(3)\n",
      "memory usage: 9.9+ MB\n"
     ]
    }
   ],
   "source": [
    "product_view_data.info()"
   ]
  },
  {
   "cell_type": "code",
   "execution_count": 88,
   "id": "3172f06e-a944-40a3-af62-fb41da170068",
   "metadata": {},
   "outputs": [
    {
     "data": {
      "text/html": [
       "<div>\n",
       "<style scoped>\n",
       "    .dataframe tbody tr th:only-of-type {\n",
       "        vertical-align: middle;\n",
       "    }\n",
       "\n",
       "    .dataframe tbody tr th {\n",
       "        vertical-align: top;\n",
       "    }\n",
       "\n",
       "    .dataframe thead th {\n",
       "        text-align: right;\n",
       "    }\n",
       "</style>\n",
       "<table border=\"1\" class=\"dataframe\">\n",
       "  <thead>\n",
       "    <tr style=\"text-align: right;\">\n",
       "      <th></th>\n",
       "      <th>count</th>\n",
       "      <th>unique</th>\n",
       "      <th>top</th>\n",
       "      <th>freq</th>\n",
       "    </tr>\n",
       "  </thead>\n",
       "  <tbody>\n",
       "    <tr>\n",
       "      <th>Client</th>\n",
       "      <td>323614</td>\n",
       "      <td>27799</td>\n",
       "      <td>83171363-2d52-4e96-be88-0e902ebf6055</td>\n",
       "      <td>15</td>\n",
       "    </tr>\n",
       "    <tr>\n",
       "      <th>Timestamp</th>\n",
       "      <td>323614</td>\n",
       "      <td>323573</td>\n",
       "      <td>2021-09-11 23:03:51.562000+00:00</td>\n",
       "      <td>2</td>\n",
       "    </tr>\n",
       "    <tr>\n",
       "      <th>ProductId</th>\n",
       "      <td>323614</td>\n",
       "      <td>83622</td>\n",
       "      <td>752126531</td>\n",
       "      <td>581</td>\n",
       "    </tr>\n",
       "  </tbody>\n",
       "</table>\n",
       "</div>"
      ],
      "text/plain": [
       "            count  unique                                   top freq\n",
       "Client     323614   27799  83171363-2d52-4e96-be88-0e902ebf6055   15\n",
       "Timestamp  323614  323573      2021-09-11 23:03:51.562000+00:00    2\n",
       "ProductId  323614   83622                             752126531  581"
      ]
     },
     "execution_count": 88,
     "metadata": {},
     "output_type": "execute_result"
    }
   ],
   "source": [
    "product_view_data.describe().T"
   ]
  },
  {
   "cell_type": "markdown",
   "id": "bda6c136-2060-481b-a04b-453af9fc62b5",
   "metadata": {},
   "source": [
    "### Sort the dataframe by 'Timestamp' in Descending order"
   ]
  },
  {
   "cell_type": "code",
   "execution_count": 89,
   "id": "c53bd553-0408-4c32-a5da-994269a537ae",
   "metadata": {},
   "outputs": [
    {
     "data": {
      "text/html": [
       "<div>\n",
       "<style scoped>\n",
       "    .dataframe tbody tr th:only-of-type {\n",
       "        vertical-align: middle;\n",
       "    }\n",
       "\n",
       "    .dataframe tbody tr th {\n",
       "        vertical-align: top;\n",
       "    }\n",
       "\n",
       "    .dataframe thead th {\n",
       "        text-align: right;\n",
       "    }\n",
       "</style>\n",
       "<table border=\"1\" class=\"dataframe\">\n",
       "  <thead>\n",
       "    <tr style=\"text-align: right;\">\n",
       "      <th></th>\n",
       "      <th>Client</th>\n",
       "      <th>Timestamp</th>\n",
       "      <th>ProductId</th>\n",
       "    </tr>\n",
       "  </thead>\n",
       "  <tbody>\n",
       "    <tr>\n",
       "      <th>12816843</th>\n",
       "      <td>c34f7696-1b94-4b90-85e3-55bddb0736ff</td>\n",
       "      <td>2021-09-19 20:59:51.447000+00:00</td>\n",
       "      <td>330910959</td>\n",
       "    </tr>\n",
       "    <tr>\n",
       "      <th>14039649</th>\n",
       "      <td>c34f7696-1b94-4b90-85e3-55bddb0736ff</td>\n",
       "      <td>2021-09-19 20:59:22.723000+00:00</td>\n",
       "      <td>a704117540</td>\n",
       "    </tr>\n",
       "    <tr>\n",
       "      <th>9490286</th>\n",
       "      <td>a46cd409-8c53-4434-99c4-cdb81b673219</td>\n",
       "      <td>2021-09-19 20:59:12.794000+00:00</td>\n",
       "      <td>88123936</td>\n",
       "    </tr>\n",
       "    <tr>\n",
       "      <th>16484288</th>\n",
       "      <td>aca66064-3e9d-4567-9346-538a4d835d89</td>\n",
       "      <td>2021-09-19 20:59:09.392000+00:00</td>\n",
       "      <td>a168531398</td>\n",
       "    </tr>\n",
       "    <tr>\n",
       "      <th>15589460</th>\n",
       "      <td>71258f55-c310-4825-ac0c-f60e4b68a8cc</td>\n",
       "      <td>2021-09-19 20:58:56.350000+00:00</td>\n",
       "      <td>a618220837</td>\n",
       "    </tr>\n",
       "    <tr>\n",
       "      <th>14039648</th>\n",
       "      <td>c34f7696-1b94-4b90-85e3-55bddb0736ff</td>\n",
       "      <td>2021-09-19 20:58:40.237000+00:00</td>\n",
       "      <td>647190730</td>\n",
       "    </tr>\n",
       "    <tr>\n",
       "      <th>10367291</th>\n",
       "      <td>aca66064-3e9d-4567-9346-538a4d835d89</td>\n",
       "      <td>2021-09-19 20:58:36.773000+00:00</td>\n",
       "      <td>711495426</td>\n",
       "    </tr>\n",
       "    <tr>\n",
       "      <th>7918966</th>\n",
       "      <td>314f66b9-9155-4ab4-8c37-531e0098ecd9</td>\n",
       "      <td>2021-09-19 20:58:21.346000+00:00</td>\n",
       "      <td>a775993387</td>\n",
       "    </tr>\n",
       "    <tr>\n",
       "      <th>15589459</th>\n",
       "      <td>71258f55-c310-4825-ac0c-f60e4b68a8cc</td>\n",
       "      <td>2021-09-19 20:58:18.187000+00:00</td>\n",
       "      <td>a618220837</td>\n",
       "    </tr>\n",
       "    <tr>\n",
       "      <th>7923941</th>\n",
       "      <td>c34f7696-1b94-4b90-85e3-55bddb0736ff</td>\n",
       "      <td>2021-09-19 20:58:17.373000+00:00</td>\n",
       "      <td>605330268</td>\n",
       "    </tr>\n",
       "  </tbody>\n",
       "</table>\n",
       "</div>"
      ],
      "text/plain": [
       "                                        Client  \\\n",
       "12816843  c34f7696-1b94-4b90-85e3-55bddb0736ff   \n",
       "14039649  c34f7696-1b94-4b90-85e3-55bddb0736ff   \n",
       "9490286   a46cd409-8c53-4434-99c4-cdb81b673219   \n",
       "16484288  aca66064-3e9d-4567-9346-538a4d835d89   \n",
       "15589460  71258f55-c310-4825-ac0c-f60e4b68a8cc   \n",
       "14039648  c34f7696-1b94-4b90-85e3-55bddb0736ff   \n",
       "10367291  aca66064-3e9d-4567-9346-538a4d835d89   \n",
       "7918966   314f66b9-9155-4ab4-8c37-531e0098ecd9   \n",
       "15589459  71258f55-c310-4825-ac0c-f60e4b68a8cc   \n",
       "7923941   c34f7696-1b94-4b90-85e3-55bddb0736ff   \n",
       "\n",
       "                                 Timestamp   ProductId  \n",
       "12816843  2021-09-19 20:59:51.447000+00:00   330910959  \n",
       "14039649  2021-09-19 20:59:22.723000+00:00  a704117540  \n",
       "9490286   2021-09-19 20:59:12.794000+00:00    88123936  \n",
       "16484288  2021-09-19 20:59:09.392000+00:00  a168531398  \n",
       "15589460  2021-09-19 20:58:56.350000+00:00  a618220837  \n",
       "14039648  2021-09-19 20:58:40.237000+00:00   647190730  \n",
       "10367291  2021-09-19 20:58:36.773000+00:00   711495426  \n",
       "7918966   2021-09-19 20:58:21.346000+00:00  a775993387  \n",
       "15589459  2021-09-19 20:58:18.187000+00:00  a618220837  \n",
       "7923941   2021-09-19 20:58:17.373000+00:00   605330268  "
      ]
     },
     "execution_count": 89,
     "metadata": {},
     "output_type": "execute_result"
    }
   ],
   "source": [
    "product_view_data_sorted = product_view_data.sort_values(by = 'Timestamp', ascending = False) \n",
    "product_view_data_sorted.head(10)"
   ]
  },
  {
   "cell_type": "markdown",
   "id": "48c46f9f-8116-4e3c-a13f-388735faa82f",
   "metadata": {},
   "source": [
    "### Analyze of Missing Values"
   ]
  },
  {
   "cell_type": "code",
   "execution_count": 90,
   "id": "3e78a933-9c2e-4262-8c61-186a1c9d89c6",
   "metadata": {},
   "outputs": [
    {
     "data": {
      "text/plain": [
       "False"
      ]
     },
     "execution_count": 90,
     "metadata": {},
     "output_type": "execute_result"
    }
   ],
   "source": [
    "product_view_data_sorted.isnull().values.any()  # Is There any missing value?"
   ]
  },
  {
   "cell_type": "markdown",
   "id": "be5d774e-2b8a-4383-8f86-f8f6d9a9ae23",
   "metadata": {},
   "source": [
    "### Unique Clients and Products"
   ]
  },
  {
   "cell_type": "code",
   "execution_count": 121,
   "id": "4ffa4890-a12d-4438-981b-a0075de985c3",
   "metadata": {},
   "outputs": [
    {
     "name": "stdout",
     "output_type": "stream",
     "text": [
      "Unique Client count: 27799\n",
      "Unique ProductID count: 83622\n"
     ]
    }
   ],
   "source": [
    "## veri setindeki benzersiz müşteri sayısını kontrol eder\n",
    "print(\"Unique Client count: %s\" % str(product_view_data_sorted.Client.nunique()))\n",
    "print(\"Unique ProductID count: %s\" % str(product_view_data_sorted.ProductId.nunique()))"
   ]
  },
  {
   "cell_type": "markdown",
   "id": "ec734273-aee8-40c4-a64f-31d861526485",
   "metadata": {},
   "source": [
    "### Count of the number of Client per ProductId"
   ]
  },
  {
   "cell_type": "code",
   "execution_count": 92,
   "id": "9e85f609-dc19-4526-8bc8-4e7b52c6945c",
   "metadata": {},
   "outputs": [
    {
     "data": {
      "text/plain": [
       "Client\n",
       "fff8924d-cee8-43ae-a40a-8d398d912821    14\n",
       "fffc2c60-bee1-4df9-8d3b-678e53c16849    14\n",
       "fffc847c-3e99-42eb-b197-067d6dd001d0    11\n",
       "ffffb04e-90e4-4321-b5e1-44071d2a9310    10\n",
       "ffffded9-2ab0-4294-83a0-a047ca9355d9    13\n",
       "Name: ProductId, dtype: int64"
      ]
     },
     "execution_count": 92,
     "metadata": {},
     "output_type": "execute_result"
    }
   ],
   "source": [
    "client_rating_count = product_view_data_sorted.groupby('Client')['ProductId'].count()\n",
    "client_rating_count.tail()"
   ]
  },
  {
   "cell_type": "markdown",
   "id": "d187887a-b6a8-4880-bac8-c4fe9808df4a",
   "metadata": {},
   "source": [
    "### Count of the number of ProductId per Client"
   ]
  },
  {
   "cell_type": "code",
   "execution_count": 93,
   "id": "a282cffb-a8a1-4a74-a5dc-bd7e5f7b3bb5",
   "metadata": {},
   "outputs": [
    {
     "data": {
      "text/plain": [
       "ProductId\n",
       "a97507228    2\n",
       "a982         1\n",
       "a984         1\n",
       "a99991095    1\n",
       "a99991314    1\n",
       "Name: Client, dtype: int64"
      ]
     },
     "execution_count": 93,
     "metadata": {},
     "output_type": "execute_result"
    }
   ],
   "source": [
    "product_rating_count = product_view_data_sorted.groupby('ProductId')['Client'].count()\n",
    "product_rating_count.tail()"
   ]
  },
  {
   "cell_type": "markdown",
   "id": "d187f52e-b9a5-49cb-a4a9-94d6d7fef770",
   "metadata": {},
   "source": [
    "### Grouping & Remove Consecutive duplicates from list"
   ]
  },
  {
   "cell_type": "code",
   "execution_count": 94,
   "id": "1c544863-5517-4aff-8748-e31b91d28446",
   "metadata": {},
   "outputs": [],
   "source": [
    "group_products = product_view_data_sorted"
   ]
  },
  {
   "cell_type": "code",
   "execution_count": 95,
   "id": "17ab3789-eb21-4064-8dd7-dcfa4d992022",
   "metadata": {},
   "outputs": [
    {
     "data": {
      "text/plain": [
       "Client\n",
       "00045004-2f96-4b2e-a52c-aa56f2b1e106    [730590443, 688039967, 598825601, 192442392, 5...\n",
       "00052e64-c4a0-4fd7-be62-755fb090ed40    [938945, 49179527, 625689306, 923374, 13482512...\n",
       "0012135d-b7fa-4609-ade9-384a508fe575    [651139042, 651139042, 651139042, 672170283, 7...\n",
       "0014f761-ed42-4d8a-9472-64dc837c6884    [141113564, 744000179, 756831584, 73147595, 20...\n",
       "001754ec-8139-4270-b32b-58c0fece3bef    [168610531, 21699, 459328, 571169, 22029, 2202...\n",
       "Name: ProductId, dtype: object"
      ]
     },
     "execution_count": 95,
     "metadata": {},
     "output_type": "execute_result"
    }
   ],
   "source": [
    "df_product = group_products.groupby('Client')['ProductId'].apply(list)\n",
    "df_product.head()"
   ]
  },
  {
   "cell_type": "markdown",
   "id": "b19a36ae-766f-4f1f-b6e2-32b9118c18b9",
   "metadata": {},
   "source": [
    "### Extract Cleaned data to csv format"
   ]
  },
  {
   "cell_type": "code",
   "execution_count": 96,
   "id": "efcaaeba-070c-430f-b25c-556b0bd93c68",
   "metadata": {},
   "outputs": [],
   "source": [
    "df_product.to_csv(\"sorteddata.csv\",sep=',')"
   ]
  },
  {
   "cell_type": "markdown",
   "id": "709d14a4-580f-4ccc-b285-2943511d8017",
   "metadata": {},
   "source": [
    "### Remove sequences product"
   ]
  },
  {
   "cell_type": "code",
   "execution_count": 97,
   "id": "71711fa2-b5ce-43dc-969d-3f08d6202848",
   "metadata": {},
   "outputs": [],
   "source": [
    "# remove consecutive duplicates from list\n",
    "def remove_consec_duplicates(raw_lst):\n",
    "  previous_value = None\n",
    "  new_lst = []\n",
    "\n",
    "  for elem in raw_lst:\n",
    "    if elem != previous_value:\n",
    "        new_lst.append(elem)\n",
    "        previous_value = elem\n",
    "\n",
    "        \n",
    "  return new_lst"
   ]
  },
  {
   "cell_type": "code",
   "execution_count": 98,
   "id": "00cda94c-dd38-4332-95cd-d604f016fda0",
   "metadata": {},
   "outputs": [],
   "source": [
    "cleaned_product_data = df_product.apply(remove_consec_duplicates)"
   ]
  },
  {
   "cell_type": "code",
   "execution_count": 99,
   "id": "eb0e0a26-988b-4838-8f46-94733b212bc4",
   "metadata": {},
   "outputs": [],
   "source": [
    "cleaned_product_data.to_csv(\"cleaned-data.csv\",sep=',')"
   ]
  },
  {
   "cell_type": "code",
   "execution_count": 100,
   "id": "55a9a2ca-1163-4379-8522-0bd80f67f65d",
   "metadata": {},
   "outputs": [],
   "source": [
    "model_data = cleaned_product_data"
   ]
  },
  {
   "cell_type": "code",
   "execution_count": 101,
   "id": "b4956058-3df3-461d-abee-528e8cd027b9",
   "metadata": {},
   "outputs": [],
   "source": [
    "model_data = model_data.to_frame()"
   ]
  },
  {
   "cell_type": "code",
   "execution_count": 102,
   "id": "273de62a-5d12-49de-b8db-ffd03bb48e3d",
   "metadata": {},
   "outputs": [
    {
     "data": {
      "text/plain": [
       "Index(['ProductId'], dtype='object')"
      ]
     },
     "execution_count": 102,
     "metadata": {},
     "output_type": "execute_result"
    }
   ],
   "source": [
    "type(model_data)\n",
    "model_data.columns"
   ]
  },
  {
   "cell_type": "markdown",
   "id": "cda82a3f-40dc-4b05-bfe3-9cbeb0995f8b",
   "metadata": {},
   "source": [
    "## PART2 - MODEL"
   ]
  },
  {
   "cell_type": "code",
   "execution_count": 104,
   "id": "56ce047e-6b9c-4fdc-805f-1f4c1f920c1b",
   "metadata": {},
   "outputs": [],
   "source": [
    "def create_product_embeddings():\n",
    "      import gensim\n",
    "      from gensim.models import Word2Vec \n",
    " \n",
    "  \n",
    "  # Create Gensim CBOW model\n",
    "      view_product_sequences = model_data['ProductId'].apply(list)\n",
    "      word2vec_model = Word2Vec(sentences = view_product_sequences,vector_size=10,window=5, min_count = 1, workers=4)\n",
    "      word2vec_model.save(\"word2vec.model\")\n",
    "      word2vec_model = Word2Vec.load(\"word2vec.model\")\n",
    "\n",
    "  \n",
    "      product_vectors = word2vec_model.wv.vectors\n",
    "\n",
    "      productID_list = list(word2vec_model.wv.key_to_index.keys())\n",
    "\n",
    "\n",
    "      vector_list = word2vec_model.wv.vectors.tolist()\n",
    "      data_tuples = list(zip(productID_list,vector_list))\n",
    "      product_ids_and_vectors = pd.DataFrame(data_tuples, columns=['Product_ID','Vectors'])\n",
    "\n",
    "      return product_ids_and_vectors"
   ]
  },
  {
   "cell_type": "markdown",
   "id": "5dffda97-d542-4931-b0c1-810656ac1114",
   "metadata": {},
   "source": [
    "### ProductId - Vectors"
   ]
  },
  {
   "cell_type": "code",
   "execution_count": 105,
   "id": "9303b5bf-05c9-475a-ba1a-32f94182699b",
   "metadata": {},
   "outputs": [
    {
     "data": {
      "text/html": [
       "<div>\n",
       "<style scoped>\n",
       "    .dataframe tbody tr th:only-of-type {\n",
       "        vertical-align: middle;\n",
       "    }\n",
       "\n",
       "    .dataframe tbody tr th {\n",
       "        vertical-align: top;\n",
       "    }\n",
       "\n",
       "    .dataframe thead th {\n",
       "        text-align: right;\n",
       "    }\n",
       "</style>\n",
       "<table border=\"1\" class=\"dataframe\">\n",
       "  <thead>\n",
       "    <tr style=\"text-align: right;\">\n",
       "      <th></th>\n",
       "      <th>Product_ID</th>\n",
       "      <th>Vectors</th>\n",
       "    </tr>\n",
       "  </thead>\n",
       "  <tbody>\n",
       "    <tr>\n",
       "      <th>0</th>\n",
       "      <td>752126531</td>\n",
       "      <td>[1.722118854522705, 1.2119492292404175, 1.4687...</td>\n",
       "    </tr>\n",
       "    <tr>\n",
       "      <th>1</th>\n",
       "      <td>a521829648</td>\n",
       "      <td>[1.6279350519180298, -0.12255896627902985, 3.2...</td>\n",
       "    </tr>\n",
       "    <tr>\n",
       "      <th>2</th>\n",
       "      <td>521829326</td>\n",
       "      <td>[1.6269140243530273, 0.6119145154953003, 2.683...</td>\n",
       "    </tr>\n",
       "    <tr>\n",
       "      <th>3</th>\n",
       "      <td>a575060958</td>\n",
       "      <td>[1.2305670976638794, -0.2838391959667206, 3.71...</td>\n",
       "    </tr>\n",
       "    <tr>\n",
       "      <th>4</th>\n",
       "      <td>769876055</td>\n",
       "      <td>[1.3955339193344116, 1.0276117324829102, 1.544...</td>\n",
       "    </tr>\n",
       "    <tr>\n",
       "      <th>5</th>\n",
       "      <td>337340793</td>\n",
       "      <td>[-1.6006624698638916, 2.430516242980957, 0.270...</td>\n",
       "    </tr>\n",
       "    <tr>\n",
       "      <th>6</th>\n",
       "      <td>652695598</td>\n",
       "      <td>[-0.3608975112438202, 0.2833493649959564, -0.2...</td>\n",
       "    </tr>\n",
       "    <tr>\n",
       "      <th>7</th>\n",
       "      <td>760139962</td>\n",
       "      <td>[0.6769884824752808, -0.08287455886602402, 1.2...</td>\n",
       "    </tr>\n",
       "    <tr>\n",
       "      <th>8</th>\n",
       "      <td>a368901216</td>\n",
       "      <td>[1.062803030014038, -0.2927871644496918, 3.094...</td>\n",
       "    </tr>\n",
       "    <tr>\n",
       "      <th>9</th>\n",
       "      <td>a75199886</td>\n",
       "      <td>[0.7655975222587585, -0.6982265710830688, 2.91...</td>\n",
       "    </tr>\n",
       "    <tr>\n",
       "      <th>10</th>\n",
       "      <td>a605330247</td>\n",
       "      <td>[0.7925073504447937, -0.6448848843574524, 2.91...</td>\n",
       "    </tr>\n",
       "    <tr>\n",
       "      <th>11</th>\n",
       "      <td>a450843523</td>\n",
       "      <td>[0.5643526315689087, -0.7627243995666504, 1.64...</td>\n",
       "    </tr>\n",
       "    <tr>\n",
       "      <th>12</th>\n",
       "      <td>575054460</td>\n",
       "      <td>[1.239438533782959, -0.3778848350048065, 3.246...</td>\n",
       "    </tr>\n",
       "    <tr>\n",
       "      <th>13</th>\n",
       "      <td>a759381252</td>\n",
       "      <td>[0.8779497146606445, -0.9238625168800354, 2.44...</td>\n",
       "    </tr>\n",
       "    <tr>\n",
       "      <th>14</th>\n",
       "      <td>242438430</td>\n",
       "      <td>[-0.2022189497947693, -0.3983638882637024, -0....</td>\n",
       "    </tr>\n",
       "  </tbody>\n",
       "</table>\n",
       "</div>"
      ],
      "text/plain": [
       "    Product_ID                                            Vectors\n",
       "0    752126531  [1.722118854522705, 1.2119492292404175, 1.4687...\n",
       "1   a521829648  [1.6279350519180298, -0.12255896627902985, 3.2...\n",
       "2    521829326  [1.6269140243530273, 0.6119145154953003, 2.683...\n",
       "3   a575060958  [1.2305670976638794, -0.2838391959667206, 3.71...\n",
       "4    769876055  [1.3955339193344116, 1.0276117324829102, 1.544...\n",
       "5    337340793  [-1.6006624698638916, 2.430516242980957, 0.270...\n",
       "6    652695598  [-0.3608975112438202, 0.2833493649959564, -0.2...\n",
       "7    760139962  [0.6769884824752808, -0.08287455886602402, 1.2...\n",
       "8   a368901216  [1.062803030014038, -0.2927871644496918, 3.094...\n",
       "9    a75199886  [0.7655975222587585, -0.6982265710830688, 2.91...\n",
       "10  a605330247  [0.7925073504447937, -0.6448848843574524, 2.91...\n",
       "11  a450843523  [0.5643526315689087, -0.7627243995666504, 1.64...\n",
       "12   575054460  [1.239438533782959, -0.3778848350048065, 3.246...\n",
       "13  a759381252  [0.8779497146606445, -0.9238625168800354, 2.44...\n",
       "14   242438430  [-0.2022189497947693, -0.3983638882637024, -0...."
      ]
     },
     "execution_count": 105,
     "metadata": {},
     "output_type": "execute_result"
    }
   ],
   "source": [
    "product_ids_and_vectors = create_product_embeddings()\n",
    "product_ids_and_vectors.head(15)"
   ]
  },
  {
   "cell_type": "markdown",
   "id": "7ca45c11-97d9-43da-b159-ccc13e96c596",
   "metadata": {},
   "source": [
    "### K-Means Model"
   ]
  },
  {
   "cell_type": "code",
   "execution_count": 106,
   "id": "f153c341-3faa-4673-8fe3-3488fcc69291",
   "metadata": {},
   "outputs": [],
   "source": [
    "def fit_kmeans():\n",
    "  from sklearn.cluster import KMeans\n",
    "  import numpy as np\n",
    "  import matplotlib.pyplot as plt\n",
    "  \n",
    "  # Get product vectors from Word2Vec\n",
    "  array_product_vectors = np.array(product_ids_and_vectors[\"Vectors\"].values.tolist())\n",
    "\n",
    "  # Fit K-Means algorithm on those embeddings\n",
    "  kmeans_model = KMeans(n_clusters=10, random_state=0).fit(array_product_vectors)\n",
    "\n",
    "  # Cluster Distribution Plot\n",
    "  plot_cluster_distribution(kmeans_model)\n",
    "\n",
    "  # Cluster Scatter Plot\n",
    "  plot_cluster_scatter(array_product_vectors)\n",
    "  \n",
    "  return kmeans_model\n",
    "\n",
    "def plot_cluster_distribution(kmeans_model):\n",
    "  import matplotlib.pyplot as plt\n",
    "\n",
    "  plt.hist(kmeans_model.labels_, rwidth=0.7)\n",
    "  plt.ylabel(\"Number of Products\")\n",
    "  plt.xlabel(\"Cluster No\")\n",
    "\n",
    "  plt.show()\n",
    "\n",
    "  # clear all plots and figures from memory\n",
    "  plt.figure().clear()\n",
    "  plt.close()\n",
    "  plt.cla()\n",
    "  plt.clf()"
   ]
  },
  {
   "cell_type": "code",
   "execution_count": 107,
   "id": "d4e254bd-d430-43f4-a3b8-2543f128a13a",
   "metadata": {},
   "outputs": [],
   "source": [
    "def plot_cluster_scatter(product_vectors):\n",
    "  import matplotlib.pyplot as plt\n",
    "  from sklearn.decomposition import PCA\n",
    "  from sklearn.cluster import KMeans\n",
    "  import numpy as np\n",
    "\n",
    "  pca = PCA(n_components=2)\n",
    "  two_dimensions_vectors = pca.fit_transform(product_vectors)\n",
    "  \n",
    "  kmeans_model = KMeans(n_clusters=10, random_state=0).fit(two_dimensions_vectors)\n",
    "  label = kmeans_model.fit_predict(two_dimensions_vectors)\n",
    "\n",
    "  #Getting the Centroids\n",
    "  centroids = kmeans_model.cluster_centers_\n",
    "  u_labels = np.unique(kmeans_model.labels_)\n",
    "  \n",
    "  #plotting the results:\n",
    "  for i in u_labels:\n",
    "      plt.scatter(two_dimensions_vectors[label == i , 0] , two_dimensions_vectors[label == i , 1] , label = i)\n",
    "  plt.scatter(centroids[:,0] , centroids[:,1] , s = 80, color = 'k')\n",
    "  plt.legend(bbox_to_anchor =(1, 1))\n",
    "  \n",
    "  plt.show()\n",
    "\n",
    "  # clear all plots and figures from memory\n",
    "  plt.figure().clear()\n",
    "  plt.close()\n",
    "  plt.cla()\n",
    "  plt.clf()"
   ]
  },
  {
   "cell_type": "code",
   "execution_count": 108,
   "id": "a8a2aa99-ec58-4db6-92b7-e71009fa419c",
   "metadata": {},
   "outputs": [
    {
     "data": {
      "image/png": "[encoded data removed]",
      "text/plain": [
       "<Figure size 432x288 with 1 Axes>"
      ]
     },
     "metadata": {},
     "output_type": "display_data"
    },
    {
     "data": {
      "image/png": "[encoded data removed]",
      "text/plain": [
       "<Figure size 432x288 with 1 Axes>"
      ]
     },
     "metadata": {},
     "output_type": "display_data"
    },
    {
     "data": {
      "text/plain": [
       "<Figure size 432x288 with 0 Axes>"
      ]
     },
     "metadata": {},
     "output_type": "display_data"
    }
   ],
   "source": [
    "model = fit_kmeans()\n"
   ]
  },
  {
   "cell_type": "code",
   "execution_count": 109,
   "id": "b4d1a63b-473f-4802-a9ae-98e11ae3c7bd",
   "metadata": {},
   "outputs": [],
   "source": [
    "def save_final_product_clusters():\n",
    "  import numpy as np  \n",
    "  array_product_vectors = np.array(product_ids_and_vectors[\"Vectors\"].values.tolist())\n",
    "\n",
    "  assigned_cluster_no = model.fit_predict(array_product_vectors).tolist()\n",
    "\n",
    "  product_ids_and_vectors[\"Cluster_No\"] = assigned_cluster_no\n",
    "  cluster_members_df = product_ids_and_vectors[[\"Product_ID\",\"Cluster_No\"]].groupby(\"Cluster_No\")['Product_ID'].apply(list).to_frame().reset_index().rename(columns={'Product_ID': 'Cluster_Member_List'})\n",
    "\n",
    "  return cluster_members_df"
   ]
  },
  {
   "cell_type": "code",
   "execution_count": 110,
   "id": "4330c85f-f491-47d7-bf60-5f41ff235b0c",
   "metadata": {},
   "outputs": [
    {
     "data": {
      "text/html": [
       "<div>\n",
       "<style scoped>\n",
       "    .dataframe tbody tr th:only-of-type {\n",
       "        vertical-align: middle;\n",
       "    }\n",
       "\n",
       "    .dataframe tbody tr th {\n",
       "        vertical-align: top;\n",
       "    }\n",
       "\n",
       "    .dataframe thead th {\n",
       "        text-align: right;\n",
       "    }\n",
       "</style>\n",
       "<table border=\"1\" class=\"dataframe\">\n",
       "  <thead>\n",
       "    <tr style=\"text-align: right;\">\n",
       "      <th></th>\n",
       "      <th>Cluster_No</th>\n",
       "      <th>Cluster_Member_List</th>\n",
       "    </tr>\n",
       "  </thead>\n",
       "  <tbody>\n",
       "    <tr>\n",
       "      <th>0</th>\n",
       "      <td>0</td>\n",
       "      <td>[842157357, 319019253, 337337465, 662375153, 5...</td>\n",
       "    </tr>\n",
       "    <tr>\n",
       "      <th>1</th>\n",
       "      <td>1</td>\n",
       "      <td>[699866893, 598552791, 687352899, 620517387, 5...</td>\n",
       "    </tr>\n",
       "    <tr>\n",
       "      <th>2</th>\n",
       "      <td>2</td>\n",
       "      <td>[752126531, a521829648, 521829326, a575060958,...</td>\n",
       "    </tr>\n",
       "    <tr>\n",
       "      <th>3</th>\n",
       "      <td>3</td>\n",
       "      <td>[337340793, 337326665, a652976204, 375324813, ...</td>\n",
       "    </tr>\n",
       "    <tr>\n",
       "      <th>4</th>\n",
       "      <td>4</td>\n",
       "      <td>[242438430, 222487230, 48592580, 726622075, 34...</td>\n",
       "    </tr>\n",
       "    <tr>\n",
       "      <th>5</th>\n",
       "      <td>5</td>\n",
       "      <td>[491730857, 699079214, 103709707, 652681942, 5...</td>\n",
       "    </tr>\n",
       "    <tr>\n",
       "      <th>6</th>\n",
       "      <td>6</td>\n",
       "      <td>[380040945, 62932867, 652976667, 606889615, 68...</td>\n",
       "    </tr>\n",
       "    <tr>\n",
       "      <th>7</th>\n",
       "      <td>7</td>\n",
       "      <td>[652695598, 14581972, 794591600, 496979374, a6...</td>\n",
       "    </tr>\n",
       "    <tr>\n",
       "      <th>8</th>\n",
       "      <td>8</td>\n",
       "      <td>[292821487, 113666925, 376670910, 32322582, 63...</td>\n",
       "    </tr>\n",
       "    <tr>\n",
       "      <th>9</th>\n",
       "      <td>9</td>\n",
       "      <td>[505646701, 760144855, a70606593, 722451850, 1...</td>\n",
       "    </tr>\n",
       "  </tbody>\n",
       "</table>\n",
       "</div>"
      ],
      "text/plain": [
       "   Cluster_No                                Cluster_Member_List\n",
       "0           0  [842157357, 319019253, 337337465, 662375153, 5...\n",
       "1           1  [699866893, 598552791, 687352899, 620517387, 5...\n",
       "2           2  [752126531, a521829648, 521829326, a575060958,...\n",
       "3           3  [337340793, 337326665, a652976204, 375324813, ...\n",
       "4           4  [242438430, 222487230, 48592580, 726622075, 34...\n",
       "5           5  [491730857, 699079214, 103709707, 652681942, 5...\n",
       "6           6  [380040945, 62932867, 652976667, 606889615, 68...\n",
       "7           7  [652695598, 14581972, 794591600, 496979374, a6...\n",
       "8           8  [292821487, 113666925, 376670910, 32322582, 63...\n",
       "9           9  [505646701, 760144855, a70606593, 722451850, 1..."
      ]
     },
     "execution_count": 110,
     "metadata": {},
     "output_type": "execute_result"
    }
   ],
   "source": [
    "cluster_members_df = save_final_product_clusters()\n",
    "cluster_members_df.head(10)"
   ]
  },
  {
   "cell_type": "code",
   "execution_count": null,
   "id": "67dd3cce-f693-45a2-945c-ee887c147536",
   "metadata": {},
   "outputs": [],
   "source": []
  },
  {
   "cell_type": "markdown",
   "id": "9ff481e1-83ad-4bd1-8cd7-75e3fc8d3eab",
   "metadata": {},
   "source": [
    "## PART3 - Recommendation"
   ]
  },
  {
   "cell_type": "code",
   "execution_count": 119,
   "id": "e6670384-94de-436d-bd05-76dfe1f737fa",
   "metadata": {},
   "outputs": [
    {
     "name": "stdout",
     "output_type": "stream",
     "text": [
      "15 Similar Product Recommendations for \n",
      "63594\n",
      ":  ['483674', '803933280', '111101993', '659911402', '31859206', '620472039', '59898200', '541172987', '485022677', '197613032', '622436565', '41249314', '339146629', '522979456', '435021975']\n"
     ]
    }
   ],
   "source": [
    "import numpy as np\n",
    "# Product ID to generate recommendations for\n",
    "product_id = \"63594\"\n",
    "\n",
    "# Get Vector (Embedding) array of the given product\n",
    "vector_array = np.array(product_ids_and_vectors[product_ids_and_vectors[\"Product_ID\"]==product_id][\"Vectors\"].tolist())\n",
    "\n",
    "# Get cluster number for the given product assigned by the model\n",
    "cluster_no = model.predict(vector_array)[0]\n",
    "\n",
    "\n",
    "# Get members list of the cluster that the given product is assigned to \n",
    "cluster_members_list = cluster_members_df[cluster_members_df['Cluster_No']==cluster_no]['Cluster_Member_List'].iloc[0]\n",
    "\n",
    "# Randomly select 15 product recommendations from the cluster members excluding the given product\n",
    "from random import sample\n",
    "#cluster_members_list.remove(product_id)\n",
    "five_product_recommendations = sample(cluster_members_list, 15)\n",
    "\n",
    "print(\"15 Similar Product Recommendations for {}: \".format('\\n' +product_id + '\\n'),five_product_recommendations)\n",
    "#print(\"15 Similar Product Recommendations for {}: \".format(product_id),cluster_members_list.model)"
   ]
  },
  {
   "cell_type": "code",
   "execution_count": null,
   "id": "773d3b57-95e3-47f6-9712-7c3c1227b23d",
   "metadata": {},
   "outputs": [],
   "source": []
  },
  {
   "cell_type": "code",
   "execution_count": 59,
   "id": "78ccc55e",
   "metadata": {},
   "outputs": [
    {
     "data": {
      "text/plain": [
       "27799"
      ]
     },
     "execution_count": 59,
     "metadata": {},
     "output_type": "execute_result"
    }
   ],
   "source": [
    "#veri setindeki benzersiz müşteri sayımız\n",
    "customers = df[\"client\"].unique().tolist()\n"
   ]
  },
  {
   "cell_type": "code",
   "execution_count": 61,
   "id": "7821be49",
   "metadata": {},
   "outputs": [],
   "source": [
    "# müşteri client Id'lerini karıştırır\n",
    "random.shuffle(customers)\n",
    "\n",
    "# müşteri Id'lerinin %90'ını çıkarır.\n",
    "customers_train = [customers[i] for i in range(round(0.9*len(customers)))]\n",
    "\n",
    "# verileri train ve validationa ayırır.\n",
    "train_df = df[df['client'].isin(customers_train)]\n",
    "validation_df = df[~df['client'].isin(customers_train)]"
   ]
  },
  {
   "cell_type": "code",
   "execution_count": 62,
   "id": "30abec99",
   "metadata": {},
   "outputs": [
    {
     "name": "stderr",
     "output_type": "stream",
     "text": [
      "100%|██████████| 25019/25019 [17:42<00:00, 23.55it/s]\n"
     ]
    }
   ],
   "source": [
    "# müşterilerin ürün görüntüleme geçmişini yakalamak için liste\n",
    "purchases_train = []\n",
    "\n",
    "# listeyi ürün kodlarıyla doldurur\n",
    "for i in tqdm(customers_train):\n",
    "    temp = train_df[train_df[\"client\"] == i][\"product_id\"].tolist()\n",
    "    purchases_train.append(temp)"
   ]
  },
  {
   "cell_type": "code",
   "execution_count": 63,
   "id": "ec9e6416",
   "metadata": {},
   "outputs": [
    {
     "name": "stderr",
     "output_type": "stream",
     "text": [
      "100%|██████████| 2780/2780 [00:16<00:00, 169.74it/s]\n"
     ]
    }
   ],
   "source": [
    "# validasyon- müşterilerin ürün görüntüleme geçmişini yakalamak için liste\n",
    "purchases_val = []\n",
    "\n",
    "# listeyi ürün kodlarıyla doldurur\n",
    "for i in tqdm(validation_df['client'].unique()):\n",
    "    temp = validation_df[validation_df[\"client\"] == i][\"product_id\"].tolist()\n",
    "    purchases_val.append(temp)"
   ]
  },
  {
   "cell_type": "code",
   "execution_count": 123,
   "id": "c7d8b645",
   "metadata": {},
   "outputs": [
    {
     "data": {
      "text/plain": [
       "(1891854, 2914180)"
      ]
     },
     "execution_count": 123,
     "metadata": {},
     "output_type": "execute_result"
    }
   ],
   "source": [
    "# train word2vec model\n",
    "model =   word2vec.Word2Vec(window = 10, sg = 1, hs = 0,\n",
    "                 negative = 10, # for negative sampling\n",
    "                 alpha=0.03, min_alpha=0.0007,\n",
    "                 seed = 14)\n",
    "\n",
    "model.build_vocab(purchases_train, progress_per=200)\n",
    "\n",
    "model.train(purchases_train, total_examples = model.corpus_count, \n",
    "            epochs=10, report_delay=1)\n",
    "\n"
   ]
  },
  {
   "cell_type": "code",
   "execution_count": 124,
   "id": "5dbdb6db",
   "metadata": {},
   "outputs": [],
   "source": [
    "# modeli bellek için daha verimli hale getirir.\n",
    "model.init_sims(replace=True)"
   ]
  },
  {
   "cell_type": "code",
   "execution_count": 125,
   "id": "580de5cc",
   "metadata": {},
   "outputs": [
    {
     "name": "stdout",
     "output_type": "stream",
     "text": [
      "Word2Vec<vocab=11177, vector_size=100, alpha=0.03>\n"
     ]
    }
   ],
   "source": [
    "# model özetini verir.\n",
    "print(model)"
   ]
  },
  {
   "cell_type": "code",
   "execution_count": 126,
   "id": "ebf89d3c",
   "metadata": {},
   "outputs": [
    {
     "data": {
      "text/plain": [
       "(11177, 100)"
      ]
     },
     "execution_count": 126,
     "metadata": {},
     "output_type": "execute_result"
    }
   ],
   "source": [
    "# tüm vektörleri çıkarır\n",
    "vocab = list(model.wv.key_to_index)\n",
    "X = model.wv[vocab]\n",
    "X.shape\n"
   ]
  },
  {
   "cell_type": "code",
   "execution_count": 127,
   "id": "a5a06661",
   "metadata": {},
   "outputs": [],
   "source": [
    "products = train_df[[\"product_id\", \"client\"]]\n",
    "\n",
    "products.drop_duplicates(inplace=True, subset='product_id', keep=\"last\")\n",
    "\n",
    "#  product-ID ve product-client dictionary yapısı\n",
    "products_dict = products.groupby('product_id')['client'].apply(list).to_dict()"
   ]
  },
  {
   "cell_type": "code",
   "execution_count": 128,
   "id": "20ef8d46",
   "metadata": {},
   "outputs": [
    {
     "data": {
      "text/plain": [
       "['0f526a95-cff0-46cc-ad77-906f86ff1e9a']"
      ]
     },
     "execution_count": 128,
     "metadata": {},
     "output_type": "execute_result"
    }
   ],
   "source": [
    "# test the dictionary\n",
    "products_dict['746882']"
   ]
  },
  {
   "cell_type": "code",
   "execution_count": 136,
   "id": "1cd5b68d",
   "metadata": {},
   "outputs": [],
   "source": [
    "def similar_products(v, n=15):\n",
    "    \n",
    "    # en benzer ürünleri vektörden çıkarmak\n",
    "    ms = model.wv.most_similar(v, topn= n+1)[1:]\n",
    "    \n",
    "    # benzer ürün id'si ve benzerlik skorlarını çıkarmak \n",
    "    new_ms = []\n",
    "    for j in ms:\n",
    "        pair = (products_dict[j[0]][0], j[1])\n",
    "        new_ms.append(pair)\n",
    "        \n",
    "    return new_ms  "
   ]
  },
  {
   "cell_type": "markdown",
   "id": "83766edf-9029-4bf2-8e1e-6bbf3809f119",
   "metadata": {},
   "source": [
    "#### Test : tek bir ürün vektörüne göre benzer ürün önerme"
   ]
  },
  {
   "cell_type": "code",
   "execution_count": 137,
   "id": "53828cdf",
   "metadata": {},
   "outputs": [
    {
     "data": {
      "text/plain": [
       "[('1001335', 0.9742641448974609),\n",
       " ('102965772', 0.9410273432731628),\n",
       " ('69716997', 0.9402053356170654),\n",
       " ('70251457', 0.9347025156021118),\n",
       " ('639638', 0.9338933229446411),\n",
       " ('973081', 0.9097626209259033),\n",
       " ('639637', 0.9081178903579712),\n",
       " ('994564', 0.9064275622367859),\n",
       " ('880887', 0.9047559499740601),\n",
       " ('809402', 0.8542018532752991)]"
      ]
     },
     "execution_count": 137,
     "metadata": {},
     "output_type": "execute_result"
    }
   ],
   "source": [
    "# tek bir ürün vektörüne göre benzer ürün önerme\n",
    "model.wv.most_similar('746882')"
   ]
  },
  {
   "cell_type": "code",
   "execution_count": 138,
   "id": "2c37ddd8",
   "metadata": {},
   "outputs": [],
   "source": [
    "# geçmiş görüntüleme işlemine göre önerme\n",
    "def aggregate_vectors(products):\n",
    "    product_vec = []\n",
    "    for i in products:\n",
    "        try:\n",
    "            product_vec.append(model.wv[i])\n",
    "        except KeyError:\n",
    "            continue\n",
    "        \n",
    "    return np.mean(product_vec, axis=0)"
   ]
  },
  {
   "cell_type": "code",
   "execution_count": 139,
   "id": "0432eb18",
   "metadata": {},
   "outputs": [
    {
     "data": {
      "text/plain": [
       "12"
      ]
     },
     "execution_count": 139,
     "metadata": {},
     "output_type": "execute_result"
    }
   ],
   "source": [
    "# Bir kullanıcı tarafından görüntülenen ürünlerin ilk listesinin uzunluğu\n",
    "len(purchases_val[0])"
   ]
  },
  {
   "cell_type": "code",
   "execution_count": 140,
   "id": "58864533",
   "metadata": {},
   "outputs": [
    {
     "data": {
      "text/plain": [
       "(100,)"
      ]
     },
     "execution_count": 140,
     "metadata": {},
     "output_type": "execute_result"
    }
   ],
   "source": [
    "aggregate_vectors(purchases_val[0]).shape"
   ]
  },
  {
   "cell_type": "code",
   "execution_count": 141,
   "id": "18d1c6b3",
   "metadata": {},
   "outputs": [
    {
     "data": {
      "text/plain": [
       "[('ff31e26a-4fef-425f-97c2-5456f08945fe', 0.9523011445999146),\n",
       " ('9cbeb70d-8459-4a3f-ac80-572eac6c6c06', 0.9518357515335083),\n",
       " ('e86e8778-d4e6-40ad-972f-6a39aba015f4', 0.89969801902771),\n",
       " ('f28730a8-4e36-47c4-a79b-1d2d1b7fe051', 0.8867565989494324),\n",
       " ('ae48f5cf-b18e-4b14-ba4f-6b88e700fd4f', 0.8686906695365906),\n",
       " ('39356210-5d91-497a-943d-763daaf7172c', 0.8678069710731506),\n",
       " ('eda1bea6-9130-463f-a765-fc891ba3f794', 0.8599176406860352),\n",
       " ('d7cbbb7d-d78f-4622-be10-b6471e269f57', 0.8591040968894958),\n",
       " ('a1f7045a-eb14-4b85-801e-df55fbc31d2f', 0.8570908308029175),\n",
       " ('34c4124d-380a-4356-b94c-3f25ff3e9e13', 0.8543232679367065),\n",
       " ('a196278e-14e1-4421-b180-b5e024e6dcdf', 0.8514467477798462),\n",
       " ('69022a89-3ee8-49b3-8de9-736fd39e4e72', 0.850095272064209),\n",
       " ('a5e2050d-bacd-407b-bb4c-d6320abe8488', 0.8495907783508301),\n",
       " ('e3f04fa6-516d-44d6-b6ad-d4f43b6542ab', 0.8487294316291809),\n",
       " ('38ac5da2-d309-453e-a3e9-8de6c6eb21ef', 0.8485289812088013)]"
      ]
     },
     "execution_count": 141,
     "metadata": {},
     "output_type": "execute_result"
    }
   ],
   "source": [
    "# sistemimiz bir kullanıcının tüm görüntüleme geçmişine dayalı olarak 15 ürün önerdi.\n",
    "similar_products(aggregate_vectors(purchases_val[0]),15)"
   ]
  },
  {
   "cell_type": "code",
   "execution_count": null,
   "id": "71a5218c",
   "metadata": {},
   "outputs": [],
   "source": []
  },
  {
   "cell_type": "markdown",
   "id": "98f911da-21a5-4aac-bcc4-9107943b59b8",
   "metadata": {},
   "source": [
    "### BONUS"
   ]
  },
  {
   "cell_type": "markdown",
   "id": "626696a5-58c5-4c37-8d16-a7413a646fe4",
   "metadata": {},
   "source": [
    "##### Eğitim verisetinde bulunmayan ürünlerin ayrı bir veri kümesi oluşturularak validasyon veri kümesi şeklinde modelin doğrulaması yapılabilir.\n"
   ]
  },
  {
   "cell_type": "code",
   "execution_count": null,
   "id": "147b02ca-1016-4e78-bfe0-ef38f9ff6e6c",
   "metadata": {},
   "outputs": [],
   "source": []
  }
 ],
 "metadata": {
  "kernelspec": {
   "display_name": "Python 3 (ipykernel)",
   "language": "python",
   "name": "python3"
  },
  "language_info": {
   "codemirror_mode": {
    "name": "ipython",
    "version": 3
   },
   "file_extension": ".py",
   "mimetype": "text/x-python",
   "name": "python",
   "nbconvert_exporter": "python",
   "pygments_lexer": "ipython3",
   "version": "3.9.7"
  }
 },
 "nbformat": 4,
 "nbformat_minor": 5
}
